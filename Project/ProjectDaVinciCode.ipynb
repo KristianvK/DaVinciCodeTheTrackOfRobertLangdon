{
 "cells": [
  {
   "cell_type": "code",
   "execution_count": 11,
   "metadata": {},
   "outputs": [],
   "source": [
    "with open('TheDaVinciCode.txt', 'r') as f:\n",
    "    data = f.read()\n",
    "    data = data.replace(\"\\n\", \" \")\n",
    "    data = data.replace(\"\\t\", \" \")\n",
    "    data = data.replace(\"\\r\", \" \")\n",
    "    data = data.replace(\"  \", \" \")\n",
    "    data = data.replace(\"   \", \" \")\n",
    "    data = data.replace(\"    \", \" \")\n",
    "    data = data.replace(\"     \", \" \")\n",
    "\n",
    "f.close()"
   ]
  },
  {
   "cell_type": "code",
   "execution_count": 8,
   "metadata": {},
   "outputs": [
    {
     "name": "stdout",
     "output_type": "stream",
     "text": [
      "108\n",
      "106\n",
      " 105  Night had fallen over Rosslyn.  Robert Langdon stood alone on the porch of the fieldstone house enjoying the sounds of laughter and reunion drifting through the screened door behind him. The mug of potent Brazilian coffee in his hand had granted him a hazy reprieve from his mounting exhaustion, and yet he sensed the reprieve would be fleeting. The fatigue in his body went to the core.  \"You slipped out quietly,\" a voice behind him said.  He turned. Sophie's grandmother emerged, her silver hair shimmering in the night. Her name, for the last twenty-eight years at least, was Marie Chauvel.  Langdon gave a tired smile. \"I thought I'd give your family some time together.\" Through the window, he could see Sophie talking with her brother.  Marie came over and stood beside him. \"Mr. Langdon, when I first heard of Jacques's murder, I was terrified for Sophie's safety. Seeing her standing in my doorway tonight was the greatest relief of my life. I cannot thank you enough.\"  Langdon had no idea how to respond. Although he had offered to give Sophie and her grandmother time to talk in private, Marie had asked him to stay and listen. My husband obviously trusted you, Mr. Langdon, so I do as well. And so Langdon had remained, standing beside Sophie and listening in mute astonishment while Marie told the story of Sophie's late parents. Incredibly, both had been from Merovingian families - direct descendants of Mary Magdalene and Jesus Christ. Sophie's parents and ancestors, for protection, had changed their family names of Plantard and Saint-Clair. Their children represented the most direct surviving royal bloodline and therefore were carefully guarded by the Priory. When Sophie's parents were killed in a car accident whose cause could not be determined, the Priory feared the identity of the royal line had been discovered.  \"Your grandfather and I,\" Marie had explained in a voice choked with pain, \"had to make a grave decision the instant we received the phone call. Your parents' car had just been found in the river.\" She dabbed at the tears in her eyes. \"All six of us - including you two grandchildren - were supposed to be traveling together in that car that very night. Fortunately we changed our plans at the last moment, and your parents were alone. Hearing of the accident, Jacques and I had no way to know what had really happened... or if this was truly an accident. \" Marie looked at Sophie. \"We knew we had to protect our grandchildren, and we did what we thought was best. Jacques reported to the police that your brother and I had been in the car... our two bodies apparently washed off in the current. Then your brother and I went underground with the Priory. Jacques, being a man of prominence, did not have the luxury of disappearing. It only made sense that Sophie, being the eldest, would stay in Paris to be taught and raised by Jacques, close to the heart and protection of the Priory.\" Her voice fell to a whisper. \"Separating the family was the hardest thing we ever had to do. Jacques and I saw each other only very infrequently, and always in the most secret of settings... under the protection of the Priory. There are certain ceremonies to which the brotherhood always stays faithful.\"  Langdon had sensed the story went far deeper, but he also sensed it was not for him to hear. So he had stepped outside. Now, gazing up at the spires of Rosslyn, Langdon could not escape the hollow gnaw of Rosslyn's unsolved mystery. Is the Grail really here at Rosslyn? And if so, where are the blade and chalice that Sauniere mentioned in his poem?  \"I'll take that,\" Marie said, motioning to Langdon's hand.  \"Oh, thank you.\" Langdon held out his empty coffee cup.  She stared at him. \"I was referring to your other hand, Mr. Langdon.\"  Langdon looked down and realized he was holding Sauniere's papyrus. He had taken it from the cryptex once again in hopes of seeing something he had missed earlier. \"Of course, I'm sorry.\"  Marie looked amused as she took the paper. \"I know of a man at a bank in Paris who is probably very eager to see the return of this rosewood box. Andre Vernet was a dear friend of Jacques, and Jacques trusted him explicitly. Andre would have done anything to honor Jacques's requests for the care of this box.\" Including shooting me, Langdon recalled, deciding not to mention that he had probably broken the poor man's nose. Thinking of Paris, Langdon flashed on the three senechaux who had been killed the night before. \"And the Priory? What happens now?\"  \"The wheels are already in motion, Mr. Langdon. The brotherhood has endured for centuries, and it will endure this. There are always those waiting to move up and rebuild.\"  All evening Langdon had suspected that Sophie's grandmother was closely tied to the operations of the Priory. After all, the Priory had always had women members. Four Grand Masters had been women. The senechaux were traditionally men - the guardians - and yet women held far more honored status within the Priory and could ascend to the highest post from virtually any rank.  Langdon thought of Leigh Teabing and Westminster Abbey. It seemed a lifetime ago. \"Was the Church pressuring your husband not to release the Sangreal documents at the End of Days?\"  \"Heavens no. The End of Days is a legend of paranoid minds. There is nothing in the Priory doctrine that identifies a date at which the Grail should be unveiled. In fact the Priory has always maintained that the Grail should never be unveiled.\"  \"Never?\" Langdon was stunned.  \"It is the mystery and wonderment that serve our souls, not the Grail itself. The beauty of the Grail lies in her ethereal nature.\" Marie Chauvel gazed up at Rosslyn now. \"For some, the Grail is a chalice that will bring them everlasting life. For others, it is the quest for lost documents and secret history. And for most, I suspect the Holy Grail is simply a grand idea... a glorious unattainable treasure that somehow, even in today's world of chaos, inspires us.\"  \"But if the Sangreal documents remain hidden, the story of Mary Magdalene will be lost forever,\" Langdon said.  \"Will it? Look around you. Her story is being told in art, music, and books. More so every day. The pendulum is swinging. We are starting to sense the dangers of our history... and of our destructive paths. We are beginning to sense the need to restore the sacred feminine.\" She paused. \"You mentioned you are writing a manuscript about the symbols of the sacred feminine, are you not?\"  \"I am.\"  She smiled. \"Finish it, Mr. Langdon. Sing her song. The world needs modern troubadours.\"  Langdon fell silent, feeling the weight of her message upon him. Across the open spaces, a new moon was rising above the tree line. Turning his eyes toward Rosslyn, Langdon felt a boyish craving to know her secrets. Don't ask, he told himself. This is not the moment. He glanced at the papyrus in Marie's hand, and then back at Rosslyn.  \"Ask the question, Mr. Langdon,\" Marie said, looking amused. \"You have earned the right.\"  Langdon felt himself flush.  \"You want to know if the Grail is here at Rosslyn.\"  \"Can you tell me?\"  She sighed in mock exasperation. \"Why is it that men simply cannot let the Grail rest?\" She laughed, obviously enjoying herself. \"Why do you think it's here?\"  Langdon motioned to the papyrus in her hand. \"Your husband's poem speaks specifically of Rosslyn, except it also mentions a blade and chalice watching over the Grail. I didn't see any symbols of the blade and chalice up there.\"  \"The blade and chalice?\" Marie asked. \"What exactly do they look like?\"  Langdon sensed she was toying with him, but he played along, quickly describing the symbols.  A look of vague recollection crossed her face. \"Ah, yes, of course. The blade represents all that is masculine. I believe it is drawn like this, no?\" Using her index finger, she traced a shape on her palm. A \"Yes,\" Langdon said. Marie had drawn the less common \"closed\" form of the blade, although Langdon had seen the symbol portrayed both ways.  \"And the inverse,\" she said, drawing again on her palm, \"is the chalice, which represents the feminine.\"  v  \"Correct,\" Langdon said.  \"And you are saying that in all the hundreds of symbols we have here in Rosslyn Chapel, these two shapes appear nowhere?\"  \"I didn't see them.\"  \"And if I show them to you, will you get some sleep?\"  Before Langdon could answer, Marie Chauvel had stepped off the porch and was heading toward the chapel. Langdon hurried after her. Entering the ancient building, Marie turned on the lights and pointed to the center of the sanctuary floor. \"There you are, Mr. Langdon. The blade and chalice.\"  Langdon stared at the scuffed stone floor. It was blank. \"There's nothing here....\"  Marie sighed and began to walk along the famous path worn into the chapel floor, the same path Langdon had seen the visitors walking earlier this evening. As his eyes adjusted to see the giant symbol, he still felt lost. \"But that's the Star of Dav- \"  Langdon stopped short, mute with amazement as it dawned on him.  The blade and chalice.  Fused as one.  The Star of David... the perfect union of male and female... Solomon's Seal... marking the Holy of Holies, where the male and female deities - Yahweh and Shekinah - were thought to dwell.  Langdon needed a minute to find his words. \"The verse does point here to Rosslyn. Completely. Perfectly.\"  Marie smiled. \"Apparently.\"  The implications chilled him. \"So the Holy Grail is in the vault beneath us?\"  She laughed. \"Only in spirit. One of the Priory's most ancient charges was one day to return the Grail to her homeland of France where she could rest for eternity. For centuries, she was dragged across the countryside to keep her safe. Most undignified. Jacques's charge when he became Grand Master was to restore her honor by returning her to France and building her a resting place fit for a queen.\"  \"And he succeeded?\" Now her face grew serious. \"Mr. Langdon, considering what you've done for me tonight, and as curator of the Rosslyn Trust, I can tell you for certain that the Grail is no longer here.\"  Langdon decided to press. \"But the keystone is supposed to point to the place where the Holy Grail is hidden now. Why does it point to Rosslyn?\"  \"Maybe you're misreading its meaning. Remember, the Grail can be deceptive. As could my late husband.\"  \"But how much clearer could he be?\" he asked. \"We are standing over an underground vault marked by the blade and chalice, underneath a ceiling of stars, surrounded by the art of Master Masons. Everything speaks of Rosslyn.\"  \"Very well, let me see this mysterious verse.\" She unrolled the papyrus and read the poem aloud in a deliberate tone.  The Holy Grail 'neath ancient Roslin waits.  The blade and chalice guarding o'er Her gates.  Adorned in masters' loving art, She lies.  She rests at last beneath the starry skies. When she finished, she was still for several seconds, until a knowing smile crossed her lips. \"Aah, Jacques.\"  Langdon watched her expectantly. \"You understand this?\"  \"As you have witnessed on the chapel floor, Mr. Langdon, there are many ways to see simple things.\"  Langdon strained to understand. Everything about Jacques Sauniere seemed to have double meanings, and yet Langdon could see no further.  Marie gave a tired yawn. \"Mr. Langdon, I will make a confession to you. I have never officially been privy to the present location of the Grail. But, of course, I was married to a person of enormous influence... and my women's intuition is strong.\" Langdon started to speak but Marie continued. \"I am sorry that after all your hard work, you will be leaving Rosslyn without any real answers. And yet, something tells me you will eventually find what you seek. One day it will dawn on you.\" She smiled. \"And when it does, I trust that you, of all people, can keep a secret.\"  There was a sound of someone arriving in the doorway. \"Both of you disappeared,\" Sophie said, entering. \"I was just leaving,\" her grandmother replied, walking over to Sophie at the door. \"Good night, princess.\" She kissed Sophie's forehead. \"Don't keep Mr. Langdon out too late.\"  Langdon and Sophie watched her grandmother walk back toward the fieldstone house. When Sophie turned to him, her eyes were awash in deep emotion. \"Not exactly the ending I expected.\"  That makes two of us, he thought. Langdon could see she was overwhelmed. The news she had received tonight had changed everything in her life. \"Are you okay? It's a lot to take in.\"  She smiled quietly. \"I have a family. That's where I'm going to start. Who we are and where we came from will take some time.\"  Langdon remained silent.  \"Beyond tonight, will you stay with us?\" Sophie asked. \"At least for a few days?\"  Langdon sighed, wanting nothing more. \"You need some time here with your family, Sophie. I'm going back to Paris in the morning.\"  She looked disappointed but seemed to know it was the right thing to do. Neither of them spoke for a long time. Finally Sophie reached over and, taking his hand, led him out of the chapel. They walked to a small rise on the bluff. From here, the Scottish countryside spread out before them, suffused in a pale moonlight that sifted through the departing clouds. They stood in silence, holding hands, both of them fighting the descending shroud of exhaustion.  The stars were just now appearing, but to the east, a single point of light glowed brighter than any other. Langdon smiled when he saw it. It was Venus. The ancient Goddess shining down with her steady and patient light.  The night was growing cooler, a crisp breeze rolling up from the lowlands. After a while, Langdon looked over at Sophie. Her eyes were closed, her lips relaxed in a contented smile. Langdon could feel his own eyes growing heavy. Reluctantly, he squeezed her hand. \"Sophie?\"  Slowly, she opened her eyes and turned to him. Her face was beautiful in the moonlight. She gave him a sleepy smile. \"Hi.\"  Langdon felt an unexpected sadness to realize he would be returning to Paris without her. \"I may be gone before you wake up.\" He paused, a knot growing in his throat. \"I'm sorry, I'm not very good at - \"  Sophie reached out and placed her soft hand on the side of his face. Then, leaning forward, she kissed him tenderly on the cheek. \"When can I see you again?\" Langdon reeled momentarily, lost in her eyes. \"When?\" He paused, curious if she had any idea how much he had been wondering the same thing. \"Well, actually, next month I'm lecturing at a conference in Florence. I'll be there a week without much to do.\"  \"Is that an invitation?\"  \"We'd be living in luxury. They're giving me a room at the Brunelleschi. \"  Sophie smiled playfully. \"You presume a lot, Mr. Langdon.\"  He cringed at how it had sounded. \"What I meant - \"  \"I would love nothing more than to meet you in Florence, Robert. But on one condition.\" Her tone turned serious. \"No museums, no churches, no tombs, no art, no relics.\"  \"In Florence? For a week? There's nothing else to do.\"  Sophie leaned forward and kissed him again, now on the lips. Their bodies came together, softly at first, and then completely. When she pulled away, her eyes were full of promise.  \"Right,\" Langdon managed. \"It's a date.\" Epilogue  Robert Langdon awoke with a start. He had been dreaming. The bathrobe beside his bed bore the monogram HOTEL RITZ PARIS. He saw a dim light filtering through the blinds. Is it dusk or dawn ? he wondered.  Langdon's body felt warm and deeply contented. He had slept the better part of the last two days. Sitting up slowly in bed, he now realized what had awoken him... the strangest thought. For days he had been trying to sort through a barrage of information, but now Langdon found himself fixed on something he'd not considered before.  Could it be?  He remained motionless a long moment.  Getting out of bed, he walked to the marble shower. Stepping inside, he let the powerful jets message his shoulders. Still, the thought enthralled him.  Impossible. Twenty minutes later, Langdon stepped out of the Hotel Ritz into Place Vendome. Night was falling. The days of sleep had left him disoriented... and yet his mind felt oddly lucid. He had promised himself he would stop in the hotel lobby for a cafe au lait to clear his thoughts, but instead his legs carried him directly out the front door into the gathering Paris night.  Walking east on Rue des Petits Champs, Langdon felt a growing excitement. He turned south onto Rue Richelieu, where the air grew sweet with the scent of blossoming jasmine from the stately gardens of the Palais Royal.  He continued south until he saw what he was looking for - the famous royal arcade - a glistening expanse of polished black marble. Moving onto it, Langdon scanned the surface beneath his feet. Within seconds, he found what he knew was there - several bronze medallions embedded in the ground in a perfectly straight line. Each disk was five inches in diameter and embossed with the letters N and S.  Nord. Sud.  He turned due south, letting his eye trace the extended line formed by the medallions. He began moving again, following the trail, watching the pavement as he walked. As he cut across the corner of the Comedie-Francaise, another bronze medallion passed beneath his feet. Yes!  The streets of Paris, Langdon had learned years ago, were adorned with 135 of these bronze markers, embedded in sidewalks, courtyards, and streets, on a north-south axis across the city. He had once followed the line from Sacre-Coeur, north across the Seine, and finally to the ancient Paris Observatory. There he discovered the significance of the sacred path it traced.  The earth's original prime meridian.  The first zero longitude of the world.  Paris 's ancient Rose Line.  Now, as Langdon hurried across Rue de Rivoli, he could feel his destination within reach. Less than a block away.  The Holy Grail 'neath ancient Roslin waits. The revelations were coming now in waves. Sauniere's ancient spelling of Roslin... the blade and chalice... the tomb adorned with masters' art.  Is that why Sauniere needed to talk with me ? Had I unknowingly guessed the truth ? He broke into a jog, feeling the Rose Line beneath his feet, guiding him, pulling him toward his destination. As he entered the long tunnel of Passage Richelieu, the hairs on his neck began to bristle with anticipation. He knew that at the end of this tunnel stood the most mysterious of Parisian monuments - conceived and commissioned in the 1980s by the Sphinx himself, Francois Mitterrand, a man rumored to move in secret circles, a man whose final legacy to Paris was a place Langdon had visited only days before.  Another lifetime.  With a final surge of energy, Langdon burst from the passageway into the familiar courtyard and came to a stop. Breathless, he raised his eyes, slowly, disbelieving, to the glistening structure in front of him.  The Louvre Pyramid.  Gleaming in the darkness.  He admired it only a moment. He was more interested in what lay to his right. Turning, he felt his feet again tracing the invisible path of the ancient Rose Line, carrying him across the courtyard to the Carrousel du Louvre - the enormous circle of grass surrounded by a perimeter of neatly trimmed hedges - once the site of Paris's primeval nature-worshipping festivals... joyous rites to celebrate fertility and the Goddess.  Langdon felt as if he were crossing into another world as he stepped over the bushes to the grassy area within. This hallowed ground was now marked by one of the city's most unusual monuments. There in the center, plunging into the earth like a crystal chasm, gaped the giant inverted pyramid of glass that he had seen a few nights ago when he entered the Louvre's subterranean entresol.  La Pyramide Inversee.  Tremulous, Langdon walked to the edge and peered down into the Louvre's sprawling underground complex, aglow with amber light. His eye was trained not just on the massive inverted pyramid, but on what lay directly beneath it. There, on the floor of the chamber below, stood the tiniest of structures... a structure Langdon had mentioned in his manuscript.  Langdon felt himself awaken fully now to the thrill of unthinkable possibility. Raising his eyes again to the Louvre, he sensed the huge wings of the museum enveloping him... hallways that burgeoned with the world's finest art.  Da Vinci... Botticelli...  Adorned in masters' loving art, She lies. Alive with wonder, he stared once again downward through the glass at the tiny structure below.  / must go down there!  Stepping out of the circle, he hurried across the courtyard back toward the towering pyramid entrance of the Louvre. The day's last visitors were trickling out of the museum.  Pushing through the revolving door, Langdon descended the curved staircase into the pyramid. He could feel the air grow cooler. When he reached the bottom, he entered the long tunnel that stretched beneath the Louvre's courtyard, back toward La Pyramide Inversee.  At the end of the tunnel, he emerged into a large chamber. Directly before him, hanging down from above, gleamed the inverted pyramid - a breathtaking V-shaped contour of glass.  The Chalice.  Langdon's eyes traced its narrowing form downward to its tip, suspended only six feet above the floor. There, directly beneath it, stood the tiny structure.  A miniature pyramid. Only three feet tall. The only structure in this colossal complex that had been built on a small scale.  Langdon's manuscript, while discussing the Louvre's elaborate collection of goddess art, had made passing note of this modest pyramid. \"The miniature structure itself protrudes up through the floor as though it were the tip of an iceberg - the apex, of an enormous, pyramidical vault, submerged below like a hidden chamber. \"  Illuminated in the soft lights of the deserted entresol, the two pyramids pointed at one another, their bodies perfectly aligned, their tips almost touching.  The Chalice above. The Blade below.  The blade and chalice guarding o'er Her gates.  Langdon heard Marie Chauvel's words. One day it will dawn on you.  He was standing beneath the ancient Rose Line, surrounded by the work of masters. What better place for Sauniere to keep watch? Now at last, he sensed he understood the true meaning of the Grand Master's verse. Raising his eyes to heaven, he gazed upward through the glass to a glorious, star-filled night. She rests at last beneath the starry skies. Like the murmurs of spirits in the darkness, forgotten words echoed. The quest for the Holy Grail is the quest to kneel before the bones of Mary Magdalene. A journey to pray at the feet of the outcast one.  With a sudden upwelling of reverence, Robert Langdon fell to his knees.  For a moment, he thought he heard a woman's voice... the wisdom of the ages... whispering up from the chasms of the earth. Copyright  2003 by Dan Brown ISBN 0-385-50420-9 \n"
     ]
    }
   ],
   "source": [
    "# Get every chapter in the data with case sensitivity.\n",
    "paragraphs = data.split(\"CHAPTER\")\n",
    "print(len(paragraphs))\n",
    "\n",
    "# Merge the paragraphs if the first element is not a number.\n",
    "tmp = []\n",
    "for i in range(1, len(paragraphs)-1):\n",
    "    if not paragraphs[i][1].isdigit():\n",
    "        tmp.append(paragraphs[i-1] + paragraphs[i])\n",
    "        paragraphs.remove(paragraphs[i])\n",
    "    \n",
    "print(i)\n",
    "\n",
    "print(paragraphs[106])"
   ]
  },
  {
   "cell_type": "code",
   "execution_count": 16,
   "metadata": {},
   "outputs": [
    {
     "name": "stdout",
     "output_type": "stream",
     "text": [
      "<class 'str'>\n"
     ]
    },
    {
     "data": {
      "application/vnd.jupyter.widget-view+json": {
       "model_id": "0dbd63f021244583a0ab0cae69fba8ae",
       "version_major": 2,
       "version_minor": 0
      },
      "text/plain": [
       "Downloading (…)e9125/.gitattributes:   0%|          | 0.00/1.18k [00:00<?, ?B/s]"
      ]
     },
     "metadata": {},
     "output_type": "display_data"
    },
    {
     "data": {
      "application/vnd.jupyter.widget-view+json": {
       "model_id": "915c2bca18334553992eeb973aeca538",
       "version_major": 2,
       "version_minor": 0
      },
      "text/plain": [
       "Downloading (…)_Pooling/config.json:   0%|          | 0.00/190 [00:00<?, ?B/s]"
      ]
     },
     "metadata": {},
     "output_type": "display_data"
    },
    {
     "data": {
      "application/vnd.jupyter.widget-view+json": {
       "model_id": "8d78bb6e8c2546389859c5408dec5e58",
       "version_major": 2,
       "version_minor": 0
      },
      "text/plain": [
       "Downloading (…)7e55de9125/README.md:   0%|          | 0.00/10.6k [00:00<?, ?B/s]"
      ]
     },
     "metadata": {},
     "output_type": "display_data"
    },
    {
     "data": {
      "application/vnd.jupyter.widget-view+json": {
       "model_id": "4140f1e2fa08408a8720ba7d1587ba4f",
       "version_major": 2,
       "version_minor": 0
      },
      "text/plain": [
       "Downloading (…)55de9125/config.json:   0%|          | 0.00/612 [00:00<?, ?B/s]"
      ]
     },
     "metadata": {},
     "output_type": "display_data"
    },
    {
     "data": {
      "application/vnd.jupyter.widget-view+json": {
       "model_id": "d8ecf247acb947acb7fb6d63595d46b4",
       "version_major": 2,
       "version_minor": 0
      },
      "text/plain": [
       "Downloading (…)ce_transformers.json:   0%|          | 0.00/116 [00:00<?, ?B/s]"
      ]
     },
     "metadata": {},
     "output_type": "display_data"
    },
    {
     "data": {
      "application/vnd.jupyter.widget-view+json": {
       "model_id": "1325efe0552c47a49e808c8a50d67ab7",
       "version_major": 2,
       "version_minor": 0
      },
      "text/plain": [
       "Downloading (…)125/data_config.json:   0%|          | 0.00/39.3k [00:00<?, ?B/s]"
      ]
     },
     "metadata": {},
     "output_type": "display_data"
    },
    {
     "data": {
      "application/vnd.jupyter.widget-view+json": {
       "model_id": "f31721734ed54744bc143ff82c22e3f4",
       "version_major": 2,
       "version_minor": 0
      },
      "text/plain": [
       "Downloading pytorch_model.bin:   0%|          | 0.00/90.9M [00:00<?, ?B/s]"
      ]
     },
     "metadata": {},
     "output_type": "display_data"
    },
    {
     "data": {
      "application/vnd.jupyter.widget-view+json": {
       "model_id": "af1ab613b54348c1adbc5c708648cfe3",
       "version_major": 2,
       "version_minor": 0
      },
      "text/plain": [
       "Downloading (…)nce_bert_config.json:   0%|          | 0.00/53.0 [00:00<?, ?B/s]"
      ]
     },
     "metadata": {},
     "output_type": "display_data"
    },
    {
     "data": {
      "application/vnd.jupyter.widget-view+json": {
       "model_id": "65785c1380a84b528f638eb36666bdb7",
       "version_major": 2,
       "version_minor": 0
      },
      "text/plain": [
       "Downloading (…)cial_tokens_map.json:   0%|          | 0.00/112 [00:00<?, ?B/s]"
      ]
     },
     "metadata": {},
     "output_type": "display_data"
    },
    {
     "data": {
      "application/vnd.jupyter.widget-view+json": {
       "model_id": "c7d332336d9b437799c2de707b0b59e3",
       "version_major": 2,
       "version_minor": 0
      },
      "text/plain": [
       "Downloading (…)e9125/tokenizer.json:   0%|          | 0.00/466k [00:00<?, ?B/s]"
      ]
     },
     "metadata": {},
     "output_type": "display_data"
    },
    {
     "data": {
      "application/vnd.jupyter.widget-view+json": {
       "model_id": "168344e2a5ee4cc4b0bc4f42d38c544f",
       "version_major": 2,
       "version_minor": 0
      },
      "text/plain": [
       "Downloading (…)okenizer_config.json:   0%|          | 0.00/350 [00:00<?, ?B/s]"
      ]
     },
     "metadata": {},
     "output_type": "display_data"
    },
    {
     "data": {
      "application/vnd.jupyter.widget-view+json": {
       "model_id": "4e2dd339a26942b68b5b73f2d4fdbe61",
       "version_major": 2,
       "version_minor": 0
      },
      "text/plain": [
       "Downloading (…)9125/train_script.py:   0%|          | 0.00/13.2k [00:00<?, ?B/s]"
      ]
     },
     "metadata": {},
     "output_type": "display_data"
    },
    {
     "data": {
      "application/vnd.jupyter.widget-view+json": {
       "model_id": "b570ead597534f78b8a149466c5fad1a",
       "version_major": 2,
       "version_minor": 0
      },
      "text/plain": [
       "Downloading (…)7e55de9125/vocab.txt:   0%|          | 0.00/232k [00:00<?, ?B/s]"
      ]
     },
     "metadata": {},
     "output_type": "display_data"
    },
    {
     "data": {
      "application/vnd.jupyter.widget-view+json": {
       "model_id": "286d86646496412bb6da9df917bb4b62",
       "version_major": 2,
       "version_minor": 0
      },
      "text/plain": [
       "Downloading (…)5de9125/modules.json:   0%|          | 0.00/349 [00:00<?, ?B/s]"
      ]
     },
     "metadata": {},
     "output_type": "display_data"
    }
   ],
   "source": [
    "from bertopic import BERTopic\n",
    "\n",
    "bertModel = BERTopic()\n",
    "print(type(data))\n",
    "headline_topics, probs = bertModel.fit_transform(paragraphs)\n"
   ]
  },
  {
   "cell_type": "code",
   "execution_count": 17,
   "metadata": {},
   "outputs": [
    {
     "data": {
      "text/html": [
       "<div>\n",
       "<style scoped>\n",
       "    .dataframe tbody tr th:only-of-type {\n",
       "        vertical-align: middle;\n",
       "    }\n",
       "\n",
       "    .dataframe tbody tr th {\n",
       "        vertical-align: top;\n",
       "    }\n",
       "\n",
       "    .dataframe thead th {\n",
       "        text-align: right;\n",
       "    }\n",
       "</style>\n",
       "<table border=\"1\" class=\"dataframe\">\n",
       "  <thead>\n",
       "    <tr style=\"text-align: right;\">\n",
       "      <th></th>\n",
       "      <th>Topic</th>\n",
       "      <th>Count</th>\n",
       "      <th>Name</th>\n",
       "    </tr>\n",
       "  </thead>\n",
       "  <tbody>\n",
       "    <tr>\n",
       "      <th>0</th>\n",
       "      <td>-1</td>\n",
       "      <td>3</td>\n",
       "      <td>-1_the_to_and_vernet</td>\n",
       "    </tr>\n",
       "    <tr>\n",
       "      <th>1</th>\n",
       "      <td>0</td>\n",
       "      <td>81</td>\n",
       "      <td>0_the_to_of_and</td>\n",
       "    </tr>\n",
       "    <tr>\n",
       "      <th>2</th>\n",
       "      <td>1</td>\n",
       "      <td>23</td>\n",
       "      <td>1_the_of_he_his</td>\n",
       "    </tr>\n",
       "  </tbody>\n",
       "</table>\n",
       "</div>"
      ],
      "text/plain": [
       "   Topic  Count                  Name\n",
       "0     -1      3  -1_the_to_and_vernet\n",
       "1      0     81       0_the_to_of_and\n",
       "2      1     23       1_the_of_he_his"
      ]
     },
     "execution_count": 17,
     "metadata": {},
     "output_type": "execute_result"
    }
   ],
   "source": [
    "bertModel.get_topic_info()"
   ]
  },
  {
   "cell_type": "code",
   "execution_count": null,
   "metadata": {},
   "outputs": [],
   "source": [
    "# https://towardsdatascience.com/meet-bertopic-berts-cousin-for-advanced-topic-modeling-ea5bf0b7faa3#:~:text=BERTopic%20is%20a%20topic%20modeling,to%20the%20various%20visualization%20functions.\n",
    "\n",
    "# from bertopic import BERTopic\n",
    "\n",
    "# model = BERTopic(verbose=True,embedding_model='paraphrase-MiniLM-L3-v2', min_topic_size= 7)\n",
    "# headline_topics, _ = model.fit_transform(data.headline_text)"
   ]
  },
  {
   "cell_type": "code",
   "execution_count": 70,
   "metadata": {},
   "outputs": [],
   "source": [
    "# This link is for the map animation.\n",
    "# https://medium.com/analytics-vidhya/creating-map-animations-using-python-3b52061768a3"
   ]
  }
 ],
 "metadata": {
  "kernelspec": {
   "display_name": "base",
   "language": "python",
   "name": "python3"
  },
  "language_info": {
   "codemirror_mode": {
    "name": "ipython",
    "version": 3
   },
   "file_extension": ".py",
   "mimetype": "text/x-python",
   "name": "python",
   "nbconvert_exporter": "python",
   "pygments_lexer": "ipython3",
   "version": "3.9.12"
  },
  "orig_nbformat": 4
 },
 "nbformat": 4,
 "nbformat_minor": 2
}
