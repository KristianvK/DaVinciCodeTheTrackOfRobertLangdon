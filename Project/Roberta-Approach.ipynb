{
 "cells": [
  {
   "cell_type": "code",
   "execution_count": 19,
   "metadata": {},
   "outputs": [],
   "source": [
    "import pandas as pd\n",
    "from tqdm import tqdm"
   ]
  },
  {
   "cell_type": "code",
   "execution_count": 20,
   "metadata": {},
   "outputs": [],
   "source": [
    "with open('TheDaVinciCode.txt', 'r') as f:\n",
    "    data = f.read()\n",
    "    data = data.replace(\"\\n\", \" \")\n",
    "    data = data.replace(\"\\t\", \" \")\n",
    "    data = data.replace(\"\\r\", \" \")\n",
    "    data = data.replace(\"  \", \" \")\n",
    "    data = data.replace(\"   \", \" \")\n",
    "    data = data.replace(\"    \", \" \")\n",
    "    data = data.replace(\"     \", \" \")\n",
    "\n",
    "f.close()"
   ]
  },
  {
   "cell_type": "code",
   "execution_count": 21,
   "metadata": {},
   "outputs": [],
   "source": [
    "import re\n",
    "\n",
    "sentences = re.split(\"(?<!\\w\\.\\w.)(?<![A-Z]\\.)(?<![A-Z][a-z]\\.)(?<=\\.|\\?)|!\", data)\n",
    "sentences = sentences[:100]"
   ]
  },
  {
   "cell_type": "code",
   "execution_count": 22,
   "metadata": {},
   "outputs": [
    {
     "name": "stderr",
     "output_type": "stream",
     "text": [
      "100%|██████████| 100/100 [00:24<00:00,  4.14it/s]\n"
     ]
    }
   ],
   "source": [
    "from transformers import AutoTokenizer, AutoModelForTokenClassification\n",
    "from transformers import pipeline\n",
    "\n",
    "tokenizer = AutoTokenizer.from_pretrained(\"Jean-Baptiste/roberta-large-ner-english\")\n",
    "model = AutoModelForTokenClassification.from_pretrained(\"Jean-Baptiste/roberta-large-ner-english\")\n",
    "\n",
    "\n",
    "# go through all the sentences and extract the entities4\n",
    "entities = []\n",
    "nlp = pipeline('ner', model=model, tokenizer=tokenizer, aggregation_strategy=\"simple\")\n",
    "for sentence in tqdm(sentences):\n",
    "    entities.append(nlp(sentence))"
   ]
  },
  {
   "cell_type": "code",
   "execution_count": 31,
   "metadata": {},
   "outputs": [
    {
     "data": {
      "text/plain": [
       "[{'entity_group': 'MISC',\n",
       "  'score': 0.99508154,\n",
       "  'word': ' The Da Vinci Code',\n",
       "  'start': 0,\n",
       "  'end': 17},\n",
       " {'entity_group': 'PER',\n",
       "  'score': 0.99775875,\n",
       "  'word': ' Dan Brown',\n",
       "  'start': 19,\n",
       "  'end': 28},\n",
       " {'entity_group': 'LOC',\n",
       "  'score': 0.98703593,\n",
       "  'word': ' Louvre Museum',\n",
       "  'start': 39,\n",
       "  'end': 52},\n",
       " {'entity_group': 'LOC',\n",
       "  'score': 0.9983302,\n",
       "  'word': ' Paris',\n",
       "  'start': 54,\n",
       "  'end': 59},\n",
       " {'entity_group': 'PER',\n",
       "  'score': 0.9993916,\n",
       "  'word': ' Jacques Sauniere',\n",
       "  'start': 89,\n",
       "  'end': 105},\n",
       " {'entity_group': 'LOC',\n",
       "  'score': 0.9520126,\n",
       "  'word': ' Grand Gallery',\n",
       "  'start': 160,\n",
       "  'end': 173}]"
      ]
     },
     "execution_count": 31,
     "metadata": {},
     "output_type": "execute_result"
    }
   ],
   "source": [
    "entities[0]\n",
    "# print(type(entities[0][0]))"
   ]
  },
  {
   "cell_type": "code",
   "execution_count": 34,
   "metadata": {},
   "outputs": [],
   "source": [
    "list_of_entities = []\n",
    "for i in range(len(entities)):\n",
    "    for j in range(len(entities[i])):\n",
    "        list_of_entities.append((entities[i][j][\"word\"], entities[i][j][\"entity_group\"], i))"
   ]
  },
  {
   "cell_type": "code",
   "execution_count": 37,
   "metadata": {},
   "outputs": [
    {
     "data": {
      "text/plain": [
       "[(' The Da Vinci Code', 'MISC', 0),\n",
       " (' Dan Brown', 'PER', 0),\n",
       " (' Louvre Museum', 'LOC', 0),\n",
       " (' Paris', 'LOC', 0),\n",
       " (' Jacques Sauniere', 'PER', 0),\n",
       " (' Grand Gallery', 'LOC', 0),\n",
       " (' Caravaggio', 'PER', 1),\n",
       " (' Sauniere', 'PER', 2),\n",
       " (' albino', 'MISC', 15),\n",
       " (' Sauniere', 'PER', 30)]"
      ]
     },
     "execution_count": 37,
     "metadata": {},
     "output_type": "execute_result"
    }
   ],
   "source": [
    "list_of_entities[:10]"
   ]
  },
  {
   "cell_type": "code",
   "execution_count": null,
   "metadata": {},
   "outputs": [],
   "source": []
  }
 ],
 "metadata": {
  "kernelspec": {
   "display_name": "base",
   "language": "python",
   "name": "python3"
  },
  "language_info": {
   "codemirror_mode": {
    "name": "ipython",
    "version": 3
   },
   "file_extension": ".py",
   "mimetype": "text/x-python",
   "name": "python",
   "nbconvert_exporter": "python",
   "pygments_lexer": "ipython3",
   "version": "3.9.12"
  },
  "orig_nbformat": 4
 },
 "nbformat": 4,
 "nbformat_minor": 2
}
