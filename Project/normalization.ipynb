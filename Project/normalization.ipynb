{
 "cells": [
  {
   "cell_type": "code",
   "execution_count": 1,
   "metadata": {},
   "outputs": [],
   "source": [
    "from tqdm import tqdm\n",
    "from sklearn.feature_extraction.text import TfidfVectorizer\n",
    "import pickle"
   ]
  },
  {
   "cell_type": "code",
   "execution_count": 3,
   "metadata": {},
   "outputs": [],
   "source": [
    "with open(\"/Volumes/Drive/GitHub/DaVinciCodeTheTrackOfRobertLangdon/models/first-results-roberta\", \"rb\") as fp:   # Unpickling\n",
    "    bert_tags = pickle.load(fp)"
   ]
  },
  {
   "cell_type": "code",
   "execution_count": 6,
   "metadata": {},
   "outputs": [
    {
     "data": {
      "text/plain": [
       "[(' The Da Vinci Code', 'MISC', 1),\n",
       " (' Dan Brown', 'PER', 1),\n",
       " (' Louvre Museum', 'LOC', 1),\n",
       " (' Paris', 'LOC', 1),\n",
       " (' Jacques Sauniere', 'PER', 1),\n",
       " (' Grand Gallery', 'LOC', 1),\n",
       " (' Caravaggio', 'PER', 2),\n",
       " (' Sauniere', 'PER', 3),\n",
       " (' albino', 'MISC', 16),\n",
       " (' Sauniere', 'PER', 31),\n",
       " (' Sauniere', 'PER', 33),\n",
       " (' Sauniere', 'PER', 44),\n",
       " (' Sauniere', 'PER', 51),\n",
       " (' senechaux', 'PER', 51),\n",
       " (' Sauniere', 'PER', 64),\n",
       " (' Sauniere', 'PER', 65),\n",
       " (' Sauniere', 'PER', 66),\n",
       " (' Sauniere', 'PER', 70),\n",
       " (\" Guerre d'Algerie\", 'MISC', 76),\n",
       " ('.', 'MISC', 76),\n",
       " (' Jacques Sauniere', 'PER', 80),\n",
       " (' Jacques Sauniere', 'PER', 97),\n",
       " (' Grand Gallery', 'LOC', 103),\n",
       " (' Sauniere', 'PER', 104),\n",
       " (' Robert Langdon', 'PER', 108),\n",
       " (' Renaissance', 'MISC', 111),\n",
       " (' Louis XVI', 'MISC', 111),\n",
       " (' HOTEL RITZ PARIS', 'LOC', 113),\n",
       " (' Langdon', 'PER', 114),\n",
       " (' Langdon', 'PER', 116),\n",
       " (' Langdon', 'PER', 119),\n",
       " (' Langdon', 'PER', 124),\n",
       " (' AMERICAN UNIVERSITY OF PARIS', 'ORG', 127),\n",
       " (' ROBERT LANGDON', 'PER', 127),\n",
       " (' HARVARD UNIVERSITY', 'ORG', 127),\n",
       " (' Langdon', 'PER', 127),\n",
       " (' Chartres Cathedral', 'LOC', 128),\n",
       " (' Langdon', 'PER', 130),\n",
       " (' Langdon', 'PER', 132),\n",
       " (' Langdon', 'PER', 133),\n",
       " (' Vatican', 'LOC', 133),\n",
       " (' Langdon', 'PER', 135),\n",
       " (' Paris', 'LOC', 135),\n",
       " (' Langdon', 'PER', 138),\n",
       " (' Guest Relations Handbook', 'MISC', 138),\n",
       " (' CITY OF LIGHTS', 'LOC', 138),\n",
       " (' PARIS RITZ', 'LOC', 138),\n",
       " (' Robert', 'PER', 140),\n",
       " (' Langdon', 'PER', 145),\n",
       " ('Boston Magazine', 'ORG', 146),\n",
       " (' Langdon', 'PER', 147),\n",
       " (' Boston Magazine', 'ORG', 147),\n",
       " (' Harvard', 'ORG', 147),\n",
       " (' American University of Paris', 'ORG', 152),\n",
       " (' Pavilion Dauphine', 'LOC', 152),\n",
       " (' The Symbology of Secret Sects', 'MISC', 153),\n",
       " (' The An of the Illuminati', 'MISC', 153),\n",
       " (' The Lost Language of Ideograms', 'MISC', 153),\n",
       " (' Langdon', 'PER', 160),\n",
       " (' Boston Magazine', 'ORG', 165),\n",
       " (' Langdon', 'PER', 166),\n",
       " (' Langdon', 'PER', 168),\n",
       " (' Langdon', 'PER', 170),\n",
       " (' Vatican', 'LOC', 170),\n",
       " (' Langdon', 'PER', 174),\n",
       " (' Langdon', 'PER', 175),\n",
       " (' Langdon', 'PER', 178),\n",
       " ('Harrison Ford', 'PER', 179),\n",
       " (' Harris', 'ORG', 179),\n",
       " (' Harris', 'ORG', 179),\n",
       " (' Burberry', 'ORG', 179),\n",
       " (' Monique', 'PER', 180),\n",
       " (' Langdon', 'PER', 180),\n",
       " ('Boston Magazine', 'ORG', 181),\n",
       " (' Langdon', 'PER', 188),\n",
       " (' Langdon', 'PER', 192),\n",
       " (' Langdon', 'PER', 195),\n",
       " (' Langdon', 'PER', 203),\n",
       " (' Langdon', 'PER', 204),\n",
       " (' Langdon', 'PER', 207),\n",
       " (' English', 'MISC', 209),\n",
       " (' Jerome Collet', 'PER', 210),\n",
       " (' Direction Centrale Police Judiciaire.', 'ORG', 211),\n",
       " (' Langdon', 'PER', 212),\n",
       " (' Judicial Police', 'ORG', 213),\n",
       " (' DCPJ', 'ORG', 214),\n",
       " (' U', 'ORG', 214),\n",
       " ('S. FBI.', 'ORG', 214),\n",
       " (' Langdon', 'PER', 214),\n",
       " ('.', 'ORG', 214),\n",
       " (' Langdon', 'PER', 219),\n",
       " (' Langdon', 'PER', 223),\n",
       " (' Louvre', 'LOC', 225),\n",
       " (' Langdon', 'PER', 226),\n",
       " (' Jacques Sauniere', 'PER', 227),\n",
       " (' Langdon', 'PER', 227),\n",
       " (' Sauniere', 'PER', 227),\n",
       " (' Polaroid', 'MISC', 232),\n",
       " (' Langdon', 'PER', 233),\n",
       " (' Louvre', 'LOC', 235),\n",
       " (' Langdon', 'PER', 236),\n",
       " (' Langdon', 'PER', 239),\n",
       " (' Langdon', 'PER', 241),\n",
       " (' Vatican City', 'LOC', 242),\n",
       " (' Langdon', 'PER', 246),\n",
       " (' Langdon', 'PER', 253),\n",
       " (' Langdon', 'PER', 256),\n",
       " (' Sauniere', 'PER', 261),\n",
       " ('bino', 'MISC', 262),\n",
       " (' Silas', 'PER', 262),\n",
       " (' Rue La Bruyere', 'LOC', 262),\n",
       " (' New York City', 'LOC', 271),\n",
       " (' Silas', 'PER', 273),\n",
       " (' senechaux', 'PER', 280),\n",
       " (' Silas', 'PER', 295),\n",
       " (' keystone', 'LOC', 299)]"
      ]
     },
     "execution_count": 6,
     "metadata": {},
     "output_type": "execute_result"
    }
   ],
   "source": [
    "bert_tags"
   ]
  },
  {
   "cell_type": "code",
   "execution_count": null,
   "metadata": {},
   "outputs": [],
   "source": [
    "def find_closest_loc(tag, index):\n",
    "    # finds closest location to index\n",
    "    for i in range(len(tag)):\n",
    "        if tag[i][2] == index:\n",
    "            return i"
   ]
  },
  {
   "cell_type": "code",
   "execution_count": null,
   "metadata": {},
   "outputs": [],
   "source": [
    "# go through bert_tags and map person to location based on closest distance index\n",
    "pers_loc = []\n",
    "for i in tqdm(range(len(bert_tags))):\n",
    "    if bert_tags[i][1] == \"PER\":\n",
    "        loc = find_closest_loc(bert_tags, bert_tags[i][2])\n",
    "        pers_loc.append(bert_tags[i][0], loc)"
   ]
  },
  {
   "cell_type": "code",
   "execution_count": 32,
   "metadata": {},
   "outputs": [],
   "source": [
    "vectorizer = TfidfVectorizer()\n",
    "\n",
    "\n",
    "def compute_similarity(a, b):\n",
    "  tfidf = vectorizer.fit_transform([a, b])\n",
    "  similarity = ((tfidf * tfidf.T).toarray())[0,1]\n",
    "  print('similarity between', a,' and ', b, ' is: ', similarity)\n",
    "  return similarity"
   ]
  },
  {
   "cell_type": "code",
   "execution_count": 15,
   "metadata": {},
   "outputs": [],
   "source": [
    "# Load the data of the book\n",
    "with open('TheDaVinciCode.txt', 'r') as f:\n",
    "    data = f.read()\n",
    "    data = data.replace(\"\\n\", \" \")\n",
    "    data = data.replace(\"\\t\", \" \")\n",
    "    data = data.replace(\"\\r\", \" \")\n",
    "    data = data.replace(\"  \", \" \")\n",
    "    data = data.replace(\"   \", \" \")\n",
    "    data = data.replace(\"    \", \" \")\n",
    "    data = data.replace(\"     \", \" \")"
   ]
  },
  {
   "cell_type": "code",
   "execution_count": 16,
   "metadata": {},
   "outputs": [],
   "source": [
    "characters = [\"Manuel Aringarosa\", \"Sister Sandrine Bieil\", \"Marie Chauvel\", \"Jerome Collet\", \"Simon Edwards\", \"Bezu Fache\", \"Jonas Faukman\", \"Pamela Gettum\", \"Claude Grouard\", \"Robert Langdon\", \"Rémy Legaludec\", \"Sophie Neveu\"]"
   ]
  },
  {
   "cell_type": "code",
   "execution_count": 49,
   "metadata": {},
   "outputs": [],
   "source": [
    "characters = [\"Robert Langdon\", \"Rémy Legaludec\", \"Sophie Neveu\"]"
   ]
  },
  {
   "cell_type": "code",
   "execution_count": 50,
   "metadata": {},
   "outputs": [],
   "source": [
    "persons = [\"Mr. Langdon\"]"
   ]
  },
  {
   "cell_type": "code",
   "execution_count": 51,
   "metadata": {},
   "outputs": [
    {
     "name": "stdout",
     "output_type": "stream",
     "text": [
      "similarity between mr. langdon  and  robert langdon  is:  0.3360969272762574\n",
      "similarity between mr. langdon  and  rémy legaludec  is:  0.0\n",
      "similarity between mr. langdon  and  sophie neveu  is:  0.0\n"
     ]
    }
   ],
   "source": [
    "unique_chars = set()\n",
    "threshold = 0.3\n",
    "\n",
    "# Compute the similarity between the characters and the persons\n",
    "for i in range(len(characters)):\n",
    "  for j in range(len(persons)):\n",
    "    temp = []\n",
    "    char1 = persons[j].lower()\n",
    "    char2 = characters[i].lower()\n",
    "    distance = compute_similarity(char1, char2)\n",
    "    if distance > threshold:\n",
    "      unique_chars.add(char2)\n",
    "      break"
   ]
  }
 ],
 "metadata": {
  "kernelspec": {
   "display_name": "env",
   "language": "python",
   "name": "python3"
  },
  "language_info": {
   "codemirror_mode": {
    "name": "ipython",
    "version": 3
   },
   "file_extension": ".py",
   "mimetype": "text/x-python",
   "name": "python",
   "nbconvert_exporter": "python",
   "pygments_lexer": "ipython3",
   "version": "3.9.6"
  },
  "orig_nbformat": 4
 },
 "nbformat": 4,
 "nbformat_minor": 2
}
