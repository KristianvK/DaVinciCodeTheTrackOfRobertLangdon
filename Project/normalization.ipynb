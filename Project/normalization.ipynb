{
 "cells": [
  {
   "cell_type": "code",
   "execution_count": 6,
   "metadata": {},
   "outputs": [],
   "source": [
    "from tqdm import tqdm\n",
    "from sklearn.feature_extraction.text import TfidfVectorizer"
   ]
  },
  {
   "cell_type": "code",
   "execution_count": 32,
   "metadata": {},
   "outputs": [],
   "source": [
    "vectorizer = TfidfVectorizer()\n",
    "\n",
    "\n",
    "def compute_similarity(a, b):\n",
    "  tfidf = vectorizer.fit_transform([a, b])\n",
    "  similarity = ((tfidf * tfidf.T).toarray())[0,1]\n",
    "  print('similarity between', a,' and ', b, ' is: ', similarity)\n",
    "  return similarity"
   ]
  },
  {
   "cell_type": "code",
   "execution_count": 15,
   "metadata": {},
   "outputs": [],
   "source": [
    "# Load the data of the book\n",
    "with open('TheDaVinciCode.txt', 'r') as f:\n",
    "    data = f.read()\n",
    "    data = data.replace(\"\\n\", \" \")\n",
    "    data = data.replace(\"\\t\", \" \")\n",
    "    data = data.replace(\"\\r\", \" \")\n",
    "    data = data.replace(\"  \", \" \")\n",
    "    data = data.replace(\"   \", \" \")\n",
    "    data = data.replace(\"    \", \" \")\n",
    "    data = data.replace(\"     \", \" \")"
   ]
  },
  {
   "cell_type": "code",
   "execution_count": 16,
   "metadata": {},
   "outputs": [],
   "source": [
    "characters = [\"Manuel Aringarosa\", \"Sister Sandrine Bieil\", \"Marie Chauvel\", \"Jerome Collet\", \"Simon Edwards\", \"Bezu Fache\", \"Jonas Faukman\", \"Pamela Gettum\", \"Claude Grouard\", \"Robert Langdon\", \"Rémy Legaludec\", \"Sophie Neveu\"]"
   ]
  },
  {
   "cell_type": "code",
   "execution_count": 49,
   "metadata": {},
   "outputs": [],
   "source": [
    "characters = [\"Robert Langdon\", \"Rémy Legaludec\", \"Sophie Neveu\"]"
   ]
  },
  {
   "cell_type": "code",
   "execution_count": 50,
   "metadata": {},
   "outputs": [],
   "source": [
    "persons = [\"Mr. Langdon\"]"
   ]
  },
  {
   "cell_type": "code",
   "execution_count": 51,
   "metadata": {},
   "outputs": [
    {
     "name": "stdout",
     "output_type": "stream",
     "text": [
      "similarity between mr. langdon  and  robert langdon  is:  0.3360969272762574\n",
      "similarity between mr. langdon  and  rémy legaludec  is:  0.0\n",
      "similarity between mr. langdon  and  sophie neveu  is:  0.0\n"
     ]
    }
   ],
   "source": [
    "unique_chars = set()\n",
    "threshold = 0.3\n",
    "\n",
    "# Compute the similarity between the characters and the persons\n",
    "for i in range(len(characters)):\n",
    "  for j in range(len(persons)):\n",
    "    temp = []\n",
    "    char1 = persons[j].lower()\n",
    "    char2 = characters[i].lower()\n",
    "    distance = compute_similarity(char1, char2)\n",
    "    if distance > threshold:\n",
    "      unique_chars.add(char2)\n",
    "      break"
   ]
  }
 ],
 "metadata": {
  "kernelspec": {
   "display_name": "env",
   "language": "python",
   "name": "python3"
  },
  "language_info": {
   "codemirror_mode": {
    "name": "ipython",
    "version": 3
   },
   "file_extension": ".py",
   "mimetype": "text/x-python",
   "name": "python",
   "nbconvert_exporter": "python",
   "pygments_lexer": "ipython3",
   "version": "3.9.6"
  },
  "orig_nbformat": 4
 },
 "nbformat": 4,
 "nbformat_minor": 2
}
