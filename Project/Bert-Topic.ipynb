{
 "cells": [
  {
   "cell_type": "code",
   "execution_count": 1,
   "metadata": {},
   "outputs": [
    {
     "name": "stderr",
     "output_type": "stream",
     "text": [
      "/Volumes/Drive/GitHub/DaVinciCodeTheTrackOfRobertLangdon/env/lib/python3.9/site-packages/umap/distances.py:1063: NumbaDeprecationWarning: The 'nopython' keyword argument was not supplied to the 'numba.jit' decorator. The implicit default value for this argument is currently False, but it will be changed to True in Numba 0.59.0. See https://numba.readthedocs.io/en/stable/reference/deprecation.html#deprecation-of-object-mode-fall-back-behaviour-when-using-jit for details.\n",
      "  @numba.jit()\n",
      "/Volumes/Drive/GitHub/DaVinciCodeTheTrackOfRobertLangdon/env/lib/python3.9/site-packages/umap/distances.py:1071: NumbaDeprecationWarning: The 'nopython' keyword argument was not supplied to the 'numba.jit' decorator. The implicit default value for this argument is currently False, but it will be changed to True in Numba 0.59.0. See https://numba.readthedocs.io/en/stable/reference/deprecation.html#deprecation-of-object-mode-fall-back-behaviour-when-using-jit for details.\n",
      "  @numba.jit()\n",
      "/Volumes/Drive/GitHub/DaVinciCodeTheTrackOfRobertLangdon/env/lib/python3.9/site-packages/umap/distances.py:1086: NumbaDeprecationWarning: The 'nopython' keyword argument was not supplied to the 'numba.jit' decorator. The implicit default value for this argument is currently False, but it will be changed to True in Numba 0.59.0. See https://numba.readthedocs.io/en/stable/reference/deprecation.html#deprecation-of-object-mode-fall-back-behaviour-when-using-jit for details.\n",
      "  @numba.jit()\n",
      "/Volumes/Drive/GitHub/DaVinciCodeTheTrackOfRobertLangdon/env/lib/python3.9/site-packages/tqdm/auto.py:21: TqdmWarning: IProgress not found. Please update jupyter and ipywidgets. See https://ipywidgets.readthedocs.io/en/stable/user_install.html\n",
      "  from .autonotebook import tqdm as notebook_tqdm\n",
      "/Volumes/Drive/GitHub/DaVinciCodeTheTrackOfRobertLangdon/env/lib/python3.9/site-packages/umap/umap_.py:660: NumbaDeprecationWarning: The 'nopython' keyword argument was not supplied to the 'numba.jit' decorator. The implicit default value for this argument is currently False, but it will be changed to True in Numba 0.59.0. See https://numba.readthedocs.io/en/stable/reference/deprecation.html#deprecation-of-object-mode-fall-back-behaviour-when-using-jit for details.\n",
      "  @numba.jit()\n"
     ]
    }
   ],
   "source": [
    "from bertopic import BERTopic\n",
    "from bertopic.representation import KeyBERTInspired\n",
    "import re"
   ]
  },
  {
   "cell_type": "code",
   "execution_count": 2,
   "metadata": {},
   "outputs": [],
   "source": [
    "with open('TheDaVinciCode.txt', 'r') as f:\n",
    "    data = f.read()\n",
    "    data = data.replace(\"\\n\", \" \")\n",
    "    data = data.replace(\"\\t\", \" \")\n",
    "    data = data.replace(\"\\r\", \" \")\n",
    "    data = data.replace(\"  \", \" \")\n",
    "    data = data.replace(\"   \", \" \")\n",
    "    data = data.replace(\"    \", \" \")\n",
    "    data = data.replace(\"     \", \" \")\n",
    "    ' '.join(data.split())\n",
    "    data = re.sub('/\\s+/', ' ', data)\n",
    "f.close()\n",
    "# paragraphs = data.split(\"CHAPTER\")"
   ]
  },
  {
   "cell_type": "code",
   "execution_count": 3,
   "metadata": {},
   "outputs": [],
   "source": [
    "temp = data.split(\".\")\n",
    "temp_ = [x for x in temp if x != ['']]\n",
    "# merge by index of 5 sentences\n",
    "sentences = [temp_[i:i+5] for i in range(0, len(temp_), 5)]\n",
    "# merge all subindex of sentences into one string\n",
    "sentences = [' '.join(x) for x in sentences]"
   ]
  },
  {
   "cell_type": "code",
   "execution_count": 4,
   "metadata": {},
   "outputs": [
    {
     "name": "stderr",
     "output_type": "stream",
     "text": [
      "Batches: 100%|██████████| 77/77 [00:19<00:00,  3.94it/s]\n",
      "2023-05-22 15:54:50,740 - BERTopic - Transformed documents to Embeddings\n",
      "2023-05-22 15:54:57,226 - BERTopic - Reduced dimensionality\n",
      "2023-05-22 15:54:57,367 - BERTopic - Clustered reduced embeddings\n"
     ]
    }
   ],
   "source": [
    "# Fine-tune your topic representations\n",
    "representation_model = KeyBERTInspired()\n",
    "topic_model = BERTopic(language=\"english\",representation_model=representation_model, calculate_probabilities=True, verbose=True)\n",
    "topics, probs = topic_model.fit_transform(sentences)"
   ]
  },
  {
   "cell_type": "code",
   "execution_count": 5,
   "metadata": {},
   "outputs": [
    {
     "data": {
      "text/html": [
       "<div>\n",
       "<style scoped>\n",
       "    .dataframe tbody tr th:only-of-type {\n",
       "        vertical-align: middle;\n",
       "    }\n",
       "\n",
       "    .dataframe tbody tr th {\n",
       "        vertical-align: top;\n",
       "    }\n",
       "\n",
       "    .dataframe thead th {\n",
       "        text-align: right;\n",
       "    }\n",
       "</style>\n",
       "<table border=\"1\" class=\"dataframe\">\n",
       "  <thead>\n",
       "    <tr style=\"text-align: right;\">\n",
       "      <th></th>\n",
       "      <th>Topic</th>\n",
       "      <th>Count</th>\n",
       "      <th>Name</th>\n",
       "    </tr>\n",
       "  </thead>\n",
       "  <tbody>\n",
       "    <tr>\n",
       "      <th>0</th>\n",
       "      <td>-1</td>\n",
       "      <td>785</td>\n",
       "      <td>-1_langdon_langdons_sophie_fache</td>\n",
       "    </tr>\n",
       "    <tr>\n",
       "      <th>1</th>\n",
       "      <td>0</td>\n",
       "      <td>365</td>\n",
       "      <td>0_silas_opus_altar_priest</td>\n",
       "    </tr>\n",
       "    <tr>\n",
       "      <th>2</th>\n",
       "      <td>1</td>\n",
       "      <td>151</td>\n",
       "      <td>1_magdalene_grail_priory_mary</td>\n",
       "    </tr>\n",
       "    <tr>\n",
       "      <th>3</th>\n",
       "      <td>2</td>\n",
       "      <td>151</td>\n",
       "      <td>2_sophie_sophies_family_grandfathers</td>\n",
       "    </tr>\n",
       "    <tr>\n",
       "      <th>4</th>\n",
       "      <td>3</td>\n",
       "      <td>91</td>\n",
       "      <td>3_vernet_vernets_sophie_langdon</td>\n",
       "    </tr>\n",
       "  </tbody>\n",
       "</table>\n",
       "</div>"
      ],
      "text/plain": [
       "   Topic  Count                                  Name\n",
       "0     -1    785      -1_langdon_langdons_sophie_fache\n",
       "1      0    365             0_silas_opus_altar_priest\n",
       "2      1    151         1_magdalene_grail_priory_mary\n",
       "3      2    151  2_sophie_sophies_family_grandfathers\n",
       "4      3     91       3_vernet_vernets_sophie_langdon"
      ]
     },
     "execution_count": 5,
     "metadata": {},
     "output_type": "execute_result"
    }
   ],
   "source": [
    "freq = topic_model.get_topic_info(); freq.head(5)"
   ]
  },
  {
   "cell_type": "code",
   "execution_count": 6,
   "metadata": {},
   "outputs": [
    {
     "data": {
      "text/html": [
       "<div>\n",
       "<style scoped>\n",
       "    .dataframe tbody tr th:only-of-type {\n",
       "        vertical-align: middle;\n",
       "    }\n",
       "\n",
       "    .dataframe tbody tr th {\n",
       "        vertical-align: top;\n",
       "    }\n",
       "\n",
       "    .dataframe thead th {\n",
       "        text-align: right;\n",
       "    }\n",
       "</style>\n",
       "<table border=\"1\" class=\"dataframe\">\n",
       "  <thead>\n",
       "    <tr style=\"text-align: right;\">\n",
       "      <th></th>\n",
       "      <th>Topic</th>\n",
       "      <th>Count</th>\n",
       "      <th>Name</th>\n",
       "    </tr>\n",
       "  </thead>\n",
       "  <tbody>\n",
       "    <tr>\n",
       "      <th>0</th>\n",
       "      <td>-1</td>\n",
       "      <td>785</td>\n",
       "      <td>-1_langdon_langdons_sophie_fache</td>\n",
       "    </tr>\n",
       "    <tr>\n",
       "      <th>1</th>\n",
       "      <td>0</td>\n",
       "      <td>365</td>\n",
       "      <td>0_silas_opus_altar_priest</td>\n",
       "    </tr>\n",
       "    <tr>\n",
       "      <th>2</th>\n",
       "      <td>1</td>\n",
       "      <td>151</td>\n",
       "      <td>1_magdalene_grail_priory_mary</td>\n",
       "    </tr>\n",
       "    <tr>\n",
       "      <th>3</th>\n",
       "      <td>2</td>\n",
       "      <td>151</td>\n",
       "      <td>2_sophie_sophies_family_grandfathers</td>\n",
       "    </tr>\n",
       "    <tr>\n",
       "      <th>4</th>\n",
       "      <td>3</td>\n",
       "      <td>91</td>\n",
       "      <td>3_vernet_vernets_sophie_langdon</td>\n",
       "    </tr>\n",
       "    <tr>\n",
       "      <th>5</th>\n",
       "      <td>4</td>\n",
       "      <td>89</td>\n",
       "      <td>4_magdalene_magdalenes_gospels_mary</td>\n",
       "    </tr>\n",
       "    <tr>\n",
       "      <th>6</th>\n",
       "      <td>5</td>\n",
       "      <td>85</td>\n",
       "      <td>5_tomb_poem_tombs_abbey</td>\n",
       "    </tr>\n",
       "    <tr>\n",
       "      <th>7</th>\n",
       "      <td>6</td>\n",
       "      <td>72</td>\n",
       "      <td>6_inspector_teabing_hawker_teabings</td>\n",
       "    </tr>\n",
       "    <tr>\n",
       "      <th>8</th>\n",
       "      <td>7</td>\n",
       "      <td>65</td>\n",
       "      <td>7_teabing_teabings_tea_sophie</td>\n",
       "    </tr>\n",
       "    <tr>\n",
       "      <th>9</th>\n",
       "      <td>8</td>\n",
       "      <td>62</td>\n",
       "      <td>8_louvre_langdon_louvres_galleries</td>\n",
       "    </tr>\n",
       "    <tr>\n",
       "      <th>10</th>\n",
       "      <td>9</td>\n",
       "      <td>59</td>\n",
       "      <td>9_langdon_langdons_vinci_sauniere</td>\n",
       "    </tr>\n",
       "    <tr>\n",
       "      <th>11</th>\n",
       "      <td>10</td>\n",
       "      <td>59</td>\n",
       "      <td>10_sophie_langdon_langdons_sophies</td>\n",
       "    </tr>\n",
       "    <tr>\n",
       "      <th>12</th>\n",
       "      <td>11</td>\n",
       "      <td>54</td>\n",
       "      <td>11_langdon_sophie_langdons_sophies</td>\n",
       "    </tr>\n",
       "    <tr>\n",
       "      <th>13</th>\n",
       "      <td>12</td>\n",
       "      <td>50</td>\n",
       "      <td>12_leonardo_vinci_sophie_vincis</td>\n",
       "    </tr>\n",
       "    <tr>\n",
       "      <th>14</th>\n",
       "      <td>13</td>\n",
       "      <td>43</td>\n",
       "      <td>13_priory_priorys_templars_templar</td>\n",
       "    </tr>\n",
       "    <tr>\n",
       "      <th>15</th>\n",
       "      <td>14</td>\n",
       "      <td>42</td>\n",
       "      <td>14_collet_collets_barn_lieutenant</td>\n",
       "    </tr>\n",
       "    <tr>\n",
       "      <th>16</th>\n",
       "      <td>15</td>\n",
       "      <td>34</td>\n",
       "      <td>15_templar_priory_masonic_chapel</td>\n",
       "    </tr>\n",
       "    <tr>\n",
       "      <th>17</th>\n",
       "      <td>16</td>\n",
       "      <td>26</td>\n",
       "      <td>16_langdon_collet_langdons_collets</td>\n",
       "    </tr>\n",
       "    <tr>\n",
       "      <th>18</th>\n",
       "      <td>17</td>\n",
       "      <td>23</td>\n",
       "      <td>17_langdon_langdons_mickey_vatican</td>\n",
       "    </tr>\n",
       "    <tr>\n",
       "      <th>19</th>\n",
       "      <td>18</td>\n",
       "      <td>20</td>\n",
       "      <td>18_symbolism_symbols_symbol_langdon</td>\n",
       "    </tr>\n",
       "    <tr>\n",
       "      <th>20</th>\n",
       "      <td>19</td>\n",
       "      <td>19</td>\n",
       "      <td>19_hallway_cloisters_archway_cloister</td>\n",
       "    </tr>\n",
       "    <tr>\n",
       "      <th>21</th>\n",
       "      <td>20</td>\n",
       "      <td>18</td>\n",
       "      <td>20_fache_sophie_faches_sophies</td>\n",
       "    </tr>\n",
       "    <tr>\n",
       "      <th>22</th>\n",
       "      <td>21</td>\n",
       "      <td>16</td>\n",
       "      <td>21_atbash_cipher_alphabet_cryptology</td>\n",
       "    </tr>\n",
       "    <tr>\n",
       "      <th>23</th>\n",
       "      <td>22</td>\n",
       "      <td>15</td>\n",
       "      <td>22_phi_langdon_phis_divine</td>\n",
       "    </tr>\n",
       "    <tr>\n",
       "      <th>24</th>\n",
       "      <td>23</td>\n",
       "      <td>14</td>\n",
       "      <td>23_intercourse_sexual_priestesses_ritual</td>\n",
       "    </tr>\n",
       "    <tr>\n",
       "      <th>25</th>\n",
       "      <td>24</td>\n",
       "      <td>12</td>\n",
       "      <td>24_langdon_langdons_sophie_robert</td>\n",
       "    </tr>\n",
       "    <tr>\n",
       "      <th>26</th>\n",
       "      <td>25</td>\n",
       "      <td>12</td>\n",
       "      <td>25_cryptex_cryptanalysts_cipher_password</td>\n",
       "    </tr>\n",
       "    <tr>\n",
       "      <th>27</th>\n",
       "      <td>26</td>\n",
       "      <td>12</td>\n",
       "      <td>26_langdon_coat_monsieur_bedside</td>\n",
       "    </tr>\n",
       "    <tr>\n",
       "      <th>28</th>\n",
       "      <td>27</td>\n",
       "      <td>11</td>\n",
       "      <td>27_langdon_fibonacci_numbers_digits</td>\n",
       "    </tr>\n",
       "  </tbody>\n",
       "</table>\n",
       "</div>"
      ],
      "text/plain": [
       "    Topic  Count                                      Name\n",
       "0      -1    785          -1_langdon_langdons_sophie_fache\n",
       "1       0    365                 0_silas_opus_altar_priest\n",
       "2       1    151             1_magdalene_grail_priory_mary\n",
       "3       2    151      2_sophie_sophies_family_grandfathers\n",
       "4       3     91           3_vernet_vernets_sophie_langdon\n",
       "5       4     89       4_magdalene_magdalenes_gospels_mary\n",
       "6       5     85                   5_tomb_poem_tombs_abbey\n",
       "7       6     72       6_inspector_teabing_hawker_teabings\n",
       "8       7     65             7_teabing_teabings_tea_sophie\n",
       "9       8     62        8_louvre_langdon_louvres_galleries\n",
       "10      9     59         9_langdon_langdons_vinci_sauniere\n",
       "11     10     59        10_sophie_langdon_langdons_sophies\n",
       "12     11     54        11_langdon_sophie_langdons_sophies\n",
       "13     12     50           12_leonardo_vinci_sophie_vincis\n",
       "14     13     43        13_priory_priorys_templars_templar\n",
       "15     14     42         14_collet_collets_barn_lieutenant\n",
       "16     15     34          15_templar_priory_masonic_chapel\n",
       "17     16     26        16_langdon_collet_langdons_collets\n",
       "18     17     23        17_langdon_langdons_mickey_vatican\n",
       "19     18     20       18_symbolism_symbols_symbol_langdon\n",
       "20     19     19     19_hallway_cloisters_archway_cloister\n",
       "21     20     18            20_fache_sophie_faches_sophies\n",
       "22     21     16      21_atbash_cipher_alphabet_cryptology\n",
       "23     22     15                22_phi_langdon_phis_divine\n",
       "24     23     14  23_intercourse_sexual_priestesses_ritual\n",
       "25     24     12         24_langdon_langdons_sophie_robert\n",
       "26     25     12  25_cryptex_cryptanalysts_cipher_password\n",
       "27     26     12          26_langdon_coat_monsieur_bedside\n",
       "28     27     11       27_langdon_fibonacci_numbers_digits"
      ]
     },
     "execution_count": 6,
     "metadata": {},
     "output_type": "execute_result"
    }
   ],
   "source": [
    "freq"
   ]
  },
  {
   "cell_type": "code",
   "execution_count": 7,
   "metadata": {},
   "outputs": [
    {
     "data": {
      "application/vnd.plotly.v1+json": {
       "config": {
        "plotlyServerURL": "https://plot.ly"
       },
       "data": [
        {
         "customdata": [
          [
           0,
           "silas | opus | altar | priest | bishop",
           365
          ],
          [
           1,
           "magdalene | grail | priory | mary | langdon",
           151
          ],
          [
           2,
           "sophie | sophies | family | grandfathers | princess",
           151
          ],
          [
           3,
           "vernet | vernets | sophie | langdon | bank",
           91
          ],
          [
           4,
           "magdalene | magdalenes | gospels | mary | sophie",
           89
          ],
          [
           5,
           "tomb | poem | tombs | abbey | interred",
           85
          ],
          [
           6,
           "inspector | teabing | hawker | teabings | hawkers",
           72
          ],
          [
           7,
           "teabing | teabings | tea | sophie | leigh",
           65
          ],
          [
           8,
           "louvre | langdon | louvres | galleries | gallery",
           62
          ],
          [
           9,
           "langdon | langdons | vinci | sauniere | saunieres",
           59
          ],
          [
           10,
           "sophie | langdon | langdons | sophies | marie",
           59
          ],
          [
           11,
           "langdon | sophie | langdons | sophies | taxi",
           54
          ],
          [
           12,
           "leonardo | vinci | sophie | vincis | mona",
           50
          ],
          [
           13,
           "priory | priorys | templars | templar | langdon",
           43
          ],
          [
           14,
           "collet | collets | barn | lieutenant | ladder",
           42
          ],
          [
           15,
           "templar | priory | masonic | chapel | temple",
           34
          ],
          [
           16,
           "langdon | collet | langdons | collets | fache",
           26
          ],
          [
           17,
           "langdon | langdons | mickey | vatican | paris",
           23
          ],
          [
           18,
           "symbolism | symbols | symbol | langdon | pentacles",
           20
          ],
          [
           19,
           "hallway | cloisters | archway | cloister | langdon",
           19
          ],
          [
           20,
           "fache | sophie | faches | sophies | phone",
           18
          ],
          [
           21,
           "atbash | cipher | alphabet | cryptology | letters",
           16
          ],
          [
           22,
           "phi | langdon | phis | divine | vinci",
           15
          ],
          [
           23,
           "intercourse | sexual | priestesses | ritual | sex",
           14
          ],
          [
           24,
           "langdon | langdons | sophie | robert | lost",
           12
          ],
          [
           25,
           "cryptex | cryptanalysts | cipher | password | lock",
           12
          ],
          [
           26,
           "langdon | coat | monsieur | bedside | room",
           12
          ],
          [
           27,
           "langdon | fibonacci | numbers | digits | number",
           11
          ]
         ],
         "hovertemplate": "<b>Topic %{customdata[0]}</b><br>%{customdata[1]}<br>Size: %{customdata[2]}",
         "legendgroup": "",
         "marker": {
          "color": "#B0BEC5",
          "line": {
           "color": "DarkSlateGrey",
           "width": 2
          },
          "size": [
           365,
           151,
           151,
           91,
           89,
           85,
           72,
           65,
           62,
           59,
           59,
           54,
           50,
           43,
           42,
           34,
           26,
           23,
           20,
           19,
           18,
           16,
           15,
           14,
           12,
           12,
           12,
           11
          ],
          "sizemode": "area",
          "sizeref": 0.228125,
          "symbol": "circle"
         },
         "mode": "markers",
         "name": "",
         "orientation": "v",
         "showlegend": false,
         "type": "scatter",
         "x": [
          7.906914234161377,
          -7.718302249908447,
          8.091292381286621,
          3.0071067810058594,
          -7.952070236206055,
          3.9703149795532227,
          3.3234665393829346,
          3.736267328262329,
          8.056550025939941,
          -7.472640514373779,
          7.375069618225098,
          2.5579092502593994,
          7.605678558349609,
          -3.830190658569336,
          1.9614155292510986,
          -3.5871152877807617,
          2.1440961360931396,
          7.227143287658691,
          -1.1160889863967896,
          7.917259693145752,
          19.20452880859375,
          -3.502464532852173,
          -1.3380507230758667,
          -0.9680914878845215,
          7.540249824523926,
          7.646856307983398,
          19.204509735107422,
          -7.386528491973877
         ],
         "xaxis": "x",
         "y": [
          2.3636081218719482,
          13.580554962158203,
          2.1993801593780518,
          4.180254936218262,
          13.339027404785156,
          4.45936918258667,
          4.305792808532715,
          4.197055816650391,
          1.6622194051742554,
          13.847700119018555,
          2.887657642364502,
          4.04456090927124,
          2.1719090938568115,
          19.9188289642334,
          4.286905765533447,
          20.162208557128906,
          4.0324907302856445,
          3.0755882263183594,
          12.864581108093262,
          1.373935341835022,
          6.148438930511475,
          20.246501922607422,
          12.641985893249512,
          13.012751579284668,
          3.4629952907562256,
          3.6375017166137695,
          6.148434162139893,
          13.937156677246094
         ],
         "yaxis": "y"
        }
       ],
       "layout": {
        "annotations": [
         {
          "showarrow": false,
          "text": "D1",
          "x": -9.144880771636963,
          "y": 12.225661125779151,
          "yshift": 10
         },
         {
          "showarrow": false,
          "text": "D2",
          "x": 6.4701636791229244,
          "xshift": 10,
          "y": 23.283477210998534
         }
        ],
        "height": 650,
        "hoverlabel": {
         "bgcolor": "white",
         "font": {
          "family": "Rockwell",
          "size": 16
         }
        },
        "legend": {
         "itemsizing": "constant",
         "tracegroupgap": 0
        },
        "margin": {
         "t": 60
        },
        "shapes": [
         {
          "line": {
           "color": "#CFD8DC",
           "width": 2
          },
          "type": "line",
          "x0": 6.4701636791229244,
          "x1": 6.4701636791229244,
          "y0": 1.1678450405597687,
          "y1": 23.283477210998534
         },
         {
          "line": {
           "color": "#9E9E9E",
           "width": 2
          },
          "type": "line",
          "x0": -9.144880771636963,
          "x1": 22.085208129882812,
          "y0": 12.225661125779151,
          "y1": 12.225661125779151
         }
        ],
        "sliders": [
         {
          "active": 0,
          "pad": {
           "t": 50
          },
          "steps": [
           {
            "args": [
             {
              "marker.color": [
               [
                "red",
                "#B0BEC5",
                "#B0BEC5",
                "#B0BEC5",
                "#B0BEC5",
                "#B0BEC5",
                "#B0BEC5",
                "#B0BEC5",
                "#B0BEC5",
                "#B0BEC5",
                "#B0BEC5",
                "#B0BEC5",
                "#B0BEC5",
                "#B0BEC5",
                "#B0BEC5",
                "#B0BEC5",
                "#B0BEC5",
                "#B0BEC5",
                "#B0BEC5",
                "#B0BEC5",
                "#B0BEC5",
                "#B0BEC5",
                "#B0BEC5",
                "#B0BEC5",
                "#B0BEC5",
                "#B0BEC5",
                "#B0BEC5",
                "#B0BEC5"
               ]
              ]
             }
            ],
            "label": "Topic 0",
            "method": "update"
           },
           {
            "args": [
             {
              "marker.color": [
               [
                "#B0BEC5",
                "red",
                "#B0BEC5",
                "#B0BEC5",
                "#B0BEC5",
                "#B0BEC5",
                "#B0BEC5",
                "#B0BEC5",
                "#B0BEC5",
                "#B0BEC5",
                "#B0BEC5",
                "#B0BEC5",
                "#B0BEC5",
                "#B0BEC5",
                "#B0BEC5",
                "#B0BEC5",
                "#B0BEC5",
                "#B0BEC5",
                "#B0BEC5",
                "#B0BEC5",
                "#B0BEC5",
                "#B0BEC5",
                "#B0BEC5",
                "#B0BEC5",
                "#B0BEC5",
                "#B0BEC5",
                "#B0BEC5",
                "#B0BEC5"
               ]
              ]
             }
            ],
            "label": "Topic 1",
            "method": "update"
           },
           {
            "args": [
             {
              "marker.color": [
               [
                "#B0BEC5",
                "#B0BEC5",
                "red",
                "#B0BEC5",
                "#B0BEC5",
                "#B0BEC5",
                "#B0BEC5",
                "#B0BEC5",
                "#B0BEC5",
                "#B0BEC5",
                "#B0BEC5",
                "#B0BEC5",
                "#B0BEC5",
                "#B0BEC5",
                "#B0BEC5",
                "#B0BEC5",
                "#B0BEC5",
                "#B0BEC5",
                "#B0BEC5",
                "#B0BEC5",
                "#B0BEC5",
                "#B0BEC5",
                "#B0BEC5",
                "#B0BEC5",
                "#B0BEC5",
                "#B0BEC5",
                "#B0BEC5",
                "#B0BEC5"
               ]
              ]
             }
            ],
            "label": "Topic 2",
            "method": "update"
           },
           {
            "args": [
             {
              "marker.color": [
               [
                "#B0BEC5",
                "#B0BEC5",
                "#B0BEC5",
                "red",
                "#B0BEC5",
                "#B0BEC5",
                "#B0BEC5",
                "#B0BEC5",
                "#B0BEC5",
                "#B0BEC5",
                "#B0BEC5",
                "#B0BEC5",
                "#B0BEC5",
                "#B0BEC5",
                "#B0BEC5",
                "#B0BEC5",
                "#B0BEC5",
                "#B0BEC5",
                "#B0BEC5",
                "#B0BEC5",
                "#B0BEC5",
                "#B0BEC5",
                "#B0BEC5",
                "#B0BEC5",
                "#B0BEC5",
                "#B0BEC5",
                "#B0BEC5",
                "#B0BEC5"
               ]
              ]
             }
            ],
            "label": "Topic 3",
            "method": "update"
           },
           {
            "args": [
             {
              "marker.color": [
               [
                "#B0BEC5",
                "#B0BEC5",
                "#B0BEC5",
                "#B0BEC5",
                "red",
                "#B0BEC5",
                "#B0BEC5",
                "#B0BEC5",
                "#B0BEC5",
                "#B0BEC5",
                "#B0BEC5",
                "#B0BEC5",
                "#B0BEC5",
                "#B0BEC5",
                "#B0BEC5",
                "#B0BEC5",
                "#B0BEC5",
                "#B0BEC5",
                "#B0BEC5",
                "#B0BEC5",
                "#B0BEC5",
                "#B0BEC5",
                "#B0BEC5",
                "#B0BEC5",
                "#B0BEC5",
                "#B0BEC5",
                "#B0BEC5",
                "#B0BEC5"
               ]
              ]
             }
            ],
            "label": "Topic 4",
            "method": "update"
           },
           {
            "args": [
             {
              "marker.color": [
               [
                "#B0BEC5",
                "#B0BEC5",
                "#B0BEC5",
                "#B0BEC5",
                "#B0BEC5",
                "red",
                "#B0BEC5",
                "#B0BEC5",
                "#B0BEC5",
                "#B0BEC5",
                "#B0BEC5",
                "#B0BEC5",
                "#B0BEC5",
                "#B0BEC5",
                "#B0BEC5",
                "#B0BEC5",
                "#B0BEC5",
                "#B0BEC5",
                "#B0BEC5",
                "#B0BEC5",
                "#B0BEC5",
                "#B0BEC5",
                "#B0BEC5",
                "#B0BEC5",
                "#B0BEC5",
                "#B0BEC5",
                "#B0BEC5",
                "#B0BEC5"
               ]
              ]
             }
            ],
            "label": "Topic 5",
            "method": "update"
           },
           {
            "args": [
             {
              "marker.color": [
               [
                "#B0BEC5",
                "#B0BEC5",
                "#B0BEC5",
                "#B0BEC5",
                "#B0BEC5",
                "#B0BEC5",
                "red",
                "#B0BEC5",
                "#B0BEC5",
                "#B0BEC5",
                "#B0BEC5",
                "#B0BEC5",
                "#B0BEC5",
                "#B0BEC5",
                "#B0BEC5",
                "#B0BEC5",
                "#B0BEC5",
                "#B0BEC5",
                "#B0BEC5",
                "#B0BEC5",
                "#B0BEC5",
                "#B0BEC5",
                "#B0BEC5",
                "#B0BEC5",
                "#B0BEC5",
                "#B0BEC5",
                "#B0BEC5",
                "#B0BEC5"
               ]
              ]
             }
            ],
            "label": "Topic 6",
            "method": "update"
           },
           {
            "args": [
             {
              "marker.color": [
               [
                "#B0BEC5",
                "#B0BEC5",
                "#B0BEC5",
                "#B0BEC5",
                "#B0BEC5",
                "#B0BEC5",
                "#B0BEC5",
                "red",
                "#B0BEC5",
                "#B0BEC5",
                "#B0BEC5",
                "#B0BEC5",
                "#B0BEC5",
                "#B0BEC5",
                "#B0BEC5",
                "#B0BEC5",
                "#B0BEC5",
                "#B0BEC5",
                "#B0BEC5",
                "#B0BEC5",
                "#B0BEC5",
                "#B0BEC5",
                "#B0BEC5",
                "#B0BEC5",
                "#B0BEC5",
                "#B0BEC5",
                "#B0BEC5",
                "#B0BEC5"
               ]
              ]
             }
            ],
            "label": "Topic 7",
            "method": "update"
           },
           {
            "args": [
             {
              "marker.color": [
               [
                "#B0BEC5",
                "#B0BEC5",
                "#B0BEC5",
                "#B0BEC5",
                "#B0BEC5",
                "#B0BEC5",
                "#B0BEC5",
                "#B0BEC5",
                "red",
                "#B0BEC5",
                "#B0BEC5",
                "#B0BEC5",
                "#B0BEC5",
                "#B0BEC5",
                "#B0BEC5",
                "#B0BEC5",
                "#B0BEC5",
                "#B0BEC5",
                "#B0BEC5",
                "#B0BEC5",
                "#B0BEC5",
                "#B0BEC5",
                "#B0BEC5",
                "#B0BEC5",
                "#B0BEC5",
                "#B0BEC5",
                "#B0BEC5",
                "#B0BEC5"
               ]
              ]
             }
            ],
            "label": "Topic 8",
            "method": "update"
           },
           {
            "args": [
             {
              "marker.color": [
               [
                "#B0BEC5",
                "#B0BEC5",
                "#B0BEC5",
                "#B0BEC5",
                "#B0BEC5",
                "#B0BEC5",
                "#B0BEC5",
                "#B0BEC5",
                "#B0BEC5",
                "red",
                "#B0BEC5",
                "#B0BEC5",
                "#B0BEC5",
                "#B0BEC5",
                "#B0BEC5",
                "#B0BEC5",
                "#B0BEC5",
                "#B0BEC5",
                "#B0BEC5",
                "#B0BEC5",
                "#B0BEC5",
                "#B0BEC5",
                "#B0BEC5",
                "#B0BEC5",
                "#B0BEC5",
                "#B0BEC5",
                "#B0BEC5",
                "#B0BEC5"
               ]
              ]
             }
            ],
            "label": "Topic 9",
            "method": "update"
           },
           {
            "args": [
             {
              "marker.color": [
               [
                "#B0BEC5",
                "#B0BEC5",
                "#B0BEC5",
                "#B0BEC5",
                "#B0BEC5",
                "#B0BEC5",
                "#B0BEC5",
                "#B0BEC5",
                "#B0BEC5",
                "#B0BEC5",
                "red",
                "#B0BEC5",
                "#B0BEC5",
                "#B0BEC5",
                "#B0BEC5",
                "#B0BEC5",
                "#B0BEC5",
                "#B0BEC5",
                "#B0BEC5",
                "#B0BEC5",
                "#B0BEC5",
                "#B0BEC5",
                "#B0BEC5",
                "#B0BEC5",
                "#B0BEC5",
                "#B0BEC5",
                "#B0BEC5",
                "#B0BEC5"
               ]
              ]
             }
            ],
            "label": "Topic 10",
            "method": "update"
           },
           {
            "args": [
             {
              "marker.color": [
               [
                "#B0BEC5",
                "#B0BEC5",
                "#B0BEC5",
                "#B0BEC5",
                "#B0BEC5",
                "#B0BEC5",
                "#B0BEC5",
                "#B0BEC5",
                "#B0BEC5",
                "#B0BEC5",
                "#B0BEC5",
                "red",
                "#B0BEC5",
                "#B0BEC5",
                "#B0BEC5",
                "#B0BEC5",
                "#B0BEC5",
                "#B0BEC5",
                "#B0BEC5",
                "#B0BEC5",
                "#B0BEC5",
                "#B0BEC5",
                "#B0BEC5",
                "#B0BEC5",
                "#B0BEC5",
                "#B0BEC5",
                "#B0BEC5",
                "#B0BEC5"
               ]
              ]
             }
            ],
            "label": "Topic 11",
            "method": "update"
           },
           {
            "args": [
             {
              "marker.color": [
               [
                "#B0BEC5",
                "#B0BEC5",
                "#B0BEC5",
                "#B0BEC5",
                "#B0BEC5",
                "#B0BEC5",
                "#B0BEC5",
                "#B0BEC5",
                "#B0BEC5",
                "#B0BEC5",
                "#B0BEC5",
                "#B0BEC5",
                "red",
                "#B0BEC5",
                "#B0BEC5",
                "#B0BEC5",
                "#B0BEC5",
                "#B0BEC5",
                "#B0BEC5",
                "#B0BEC5",
                "#B0BEC5",
                "#B0BEC5",
                "#B0BEC5",
                "#B0BEC5",
                "#B0BEC5",
                "#B0BEC5",
                "#B0BEC5",
                "#B0BEC5"
               ]
              ]
             }
            ],
            "label": "Topic 12",
            "method": "update"
           },
           {
            "args": [
             {
              "marker.color": [
               [
                "#B0BEC5",
                "#B0BEC5",
                "#B0BEC5",
                "#B0BEC5",
                "#B0BEC5",
                "#B0BEC5",
                "#B0BEC5",
                "#B0BEC5",
                "#B0BEC5",
                "#B0BEC5",
                "#B0BEC5",
                "#B0BEC5",
                "#B0BEC5",
                "red",
                "#B0BEC5",
                "#B0BEC5",
                "#B0BEC5",
                "#B0BEC5",
                "#B0BEC5",
                "#B0BEC5",
                "#B0BEC5",
                "#B0BEC5",
                "#B0BEC5",
                "#B0BEC5",
                "#B0BEC5",
                "#B0BEC5",
                "#B0BEC5",
                "#B0BEC5"
               ]
              ]
             }
            ],
            "label": "Topic 13",
            "method": "update"
           },
           {
            "args": [
             {
              "marker.color": [
               [
                "#B0BEC5",
                "#B0BEC5",
                "#B0BEC5",
                "#B0BEC5",
                "#B0BEC5",
                "#B0BEC5",
                "#B0BEC5",
                "#B0BEC5",
                "#B0BEC5",
                "#B0BEC5",
                "#B0BEC5",
                "#B0BEC5",
                "#B0BEC5",
                "#B0BEC5",
                "red",
                "#B0BEC5",
                "#B0BEC5",
                "#B0BEC5",
                "#B0BEC5",
                "#B0BEC5",
                "#B0BEC5",
                "#B0BEC5",
                "#B0BEC5",
                "#B0BEC5",
                "#B0BEC5",
                "#B0BEC5",
                "#B0BEC5",
                "#B0BEC5"
               ]
              ]
             }
            ],
            "label": "Topic 14",
            "method": "update"
           },
           {
            "args": [
             {
              "marker.color": [
               [
                "#B0BEC5",
                "#B0BEC5",
                "#B0BEC5",
                "#B0BEC5",
                "#B0BEC5",
                "#B0BEC5",
                "#B0BEC5",
                "#B0BEC5",
                "#B0BEC5",
                "#B0BEC5",
                "#B0BEC5",
                "#B0BEC5",
                "#B0BEC5",
                "#B0BEC5",
                "#B0BEC5",
                "red",
                "#B0BEC5",
                "#B0BEC5",
                "#B0BEC5",
                "#B0BEC5",
                "#B0BEC5",
                "#B0BEC5",
                "#B0BEC5",
                "#B0BEC5",
                "#B0BEC5",
                "#B0BEC5",
                "#B0BEC5",
                "#B0BEC5"
               ]
              ]
             }
            ],
            "label": "Topic 15",
            "method": "update"
           },
           {
            "args": [
             {
              "marker.color": [
               [
                "#B0BEC5",
                "#B0BEC5",
                "#B0BEC5",
                "#B0BEC5",
                "#B0BEC5",
                "#B0BEC5",
                "#B0BEC5",
                "#B0BEC5",
                "#B0BEC5",
                "#B0BEC5",
                "#B0BEC5",
                "#B0BEC5",
                "#B0BEC5",
                "#B0BEC5",
                "#B0BEC5",
                "#B0BEC5",
                "red",
                "#B0BEC5",
                "#B0BEC5",
                "#B0BEC5",
                "#B0BEC5",
                "#B0BEC5",
                "#B0BEC5",
                "#B0BEC5",
                "#B0BEC5",
                "#B0BEC5",
                "#B0BEC5",
                "#B0BEC5"
               ]
              ]
             }
            ],
            "label": "Topic 16",
            "method": "update"
           },
           {
            "args": [
             {
              "marker.color": [
               [
                "#B0BEC5",
                "#B0BEC5",
                "#B0BEC5",
                "#B0BEC5",
                "#B0BEC5",
                "#B0BEC5",
                "#B0BEC5",
                "#B0BEC5",
                "#B0BEC5",
                "#B0BEC5",
                "#B0BEC5",
                "#B0BEC5",
                "#B0BEC5",
                "#B0BEC5",
                "#B0BEC5",
                "#B0BEC5",
                "#B0BEC5",
                "red",
                "#B0BEC5",
                "#B0BEC5",
                "#B0BEC5",
                "#B0BEC5",
                "#B0BEC5",
                "#B0BEC5",
                "#B0BEC5",
                "#B0BEC5",
                "#B0BEC5",
                "#B0BEC5"
               ]
              ]
             }
            ],
            "label": "Topic 17",
            "method": "update"
           },
           {
            "args": [
             {
              "marker.color": [
               [
                "#B0BEC5",
                "#B0BEC5",
                "#B0BEC5",
                "#B0BEC5",
                "#B0BEC5",
                "#B0BEC5",
                "#B0BEC5",
                "#B0BEC5",
                "#B0BEC5",
                "#B0BEC5",
                "#B0BEC5",
                "#B0BEC5",
                "#B0BEC5",
                "#B0BEC5",
                "#B0BEC5",
                "#B0BEC5",
                "#B0BEC5",
                "#B0BEC5",
                "red",
                "#B0BEC5",
                "#B0BEC5",
                "#B0BEC5",
                "#B0BEC5",
                "#B0BEC5",
                "#B0BEC5",
                "#B0BEC5",
                "#B0BEC5",
                "#B0BEC5"
               ]
              ]
             }
            ],
            "label": "Topic 18",
            "method": "update"
           },
           {
            "args": [
             {
              "marker.color": [
               [
                "#B0BEC5",
                "#B0BEC5",
                "#B0BEC5",
                "#B0BEC5",
                "#B0BEC5",
                "#B0BEC5",
                "#B0BEC5",
                "#B0BEC5",
                "#B0BEC5",
                "#B0BEC5",
                "#B0BEC5",
                "#B0BEC5",
                "#B0BEC5",
                "#B0BEC5",
                "#B0BEC5",
                "#B0BEC5",
                "#B0BEC5",
                "#B0BEC5",
                "#B0BEC5",
                "red",
                "#B0BEC5",
                "#B0BEC5",
                "#B0BEC5",
                "#B0BEC5",
                "#B0BEC5",
                "#B0BEC5",
                "#B0BEC5",
                "#B0BEC5"
               ]
              ]
             }
            ],
            "label": "Topic 19",
            "method": "update"
           },
           {
            "args": [
             {
              "marker.color": [
               [
                "#B0BEC5",
                "#B0BEC5",
                "#B0BEC5",
                "#B0BEC5",
                "#B0BEC5",
                "#B0BEC5",
                "#B0BEC5",
                "#B0BEC5",
                "#B0BEC5",
                "#B0BEC5",
                "#B0BEC5",
                "#B0BEC5",
                "#B0BEC5",
                "#B0BEC5",
                "#B0BEC5",
                "#B0BEC5",
                "#B0BEC5",
                "#B0BEC5",
                "#B0BEC5",
                "#B0BEC5",
                "red",
                "#B0BEC5",
                "#B0BEC5",
                "#B0BEC5",
                "#B0BEC5",
                "#B0BEC5",
                "#B0BEC5",
                "#B0BEC5"
               ]
              ]
             }
            ],
            "label": "Topic 20",
            "method": "update"
           },
           {
            "args": [
             {
              "marker.color": [
               [
                "#B0BEC5",
                "#B0BEC5",
                "#B0BEC5",
                "#B0BEC5",
                "#B0BEC5",
                "#B0BEC5",
                "#B0BEC5",
                "#B0BEC5",
                "#B0BEC5",
                "#B0BEC5",
                "#B0BEC5",
                "#B0BEC5",
                "#B0BEC5",
                "#B0BEC5",
                "#B0BEC5",
                "#B0BEC5",
                "#B0BEC5",
                "#B0BEC5",
                "#B0BEC5",
                "#B0BEC5",
                "#B0BEC5",
                "red",
                "#B0BEC5",
                "#B0BEC5",
                "#B0BEC5",
                "#B0BEC5",
                "#B0BEC5",
                "#B0BEC5"
               ]
              ]
             }
            ],
            "label": "Topic 21",
            "method": "update"
           },
           {
            "args": [
             {
              "marker.color": [
               [
                "#B0BEC5",
                "#B0BEC5",
                "#B0BEC5",
                "#B0BEC5",
                "#B0BEC5",
                "#B0BEC5",
                "#B0BEC5",
                "#B0BEC5",
                "#B0BEC5",
                "#B0BEC5",
                "#B0BEC5",
                "#B0BEC5",
                "#B0BEC5",
                "#B0BEC5",
                "#B0BEC5",
                "#B0BEC5",
                "#B0BEC5",
                "#B0BEC5",
                "#B0BEC5",
                "#B0BEC5",
                "#B0BEC5",
                "#B0BEC5",
                "red",
                "#B0BEC5",
                "#B0BEC5",
                "#B0BEC5",
                "#B0BEC5",
                "#B0BEC5"
               ]
              ]
             }
            ],
            "label": "Topic 22",
            "method": "update"
           },
           {
            "args": [
             {
              "marker.color": [
               [
                "#B0BEC5",
                "#B0BEC5",
                "#B0BEC5",
                "#B0BEC5",
                "#B0BEC5",
                "#B0BEC5",
                "#B0BEC5",
                "#B0BEC5",
                "#B0BEC5",
                "#B0BEC5",
                "#B0BEC5",
                "#B0BEC5",
                "#B0BEC5",
                "#B0BEC5",
                "#B0BEC5",
                "#B0BEC5",
                "#B0BEC5",
                "#B0BEC5",
                "#B0BEC5",
                "#B0BEC5",
                "#B0BEC5",
                "#B0BEC5",
                "#B0BEC5",
                "red",
                "#B0BEC5",
                "#B0BEC5",
                "#B0BEC5",
                "#B0BEC5"
               ]
              ]
             }
            ],
            "label": "Topic 23",
            "method": "update"
           },
           {
            "args": [
             {
              "marker.color": [
               [
                "#B0BEC5",
                "#B0BEC5",
                "#B0BEC5",
                "#B0BEC5",
                "#B0BEC5",
                "#B0BEC5",
                "#B0BEC5",
                "#B0BEC5",
                "#B0BEC5",
                "#B0BEC5",
                "#B0BEC5",
                "#B0BEC5",
                "#B0BEC5",
                "#B0BEC5",
                "#B0BEC5",
                "#B0BEC5",
                "#B0BEC5",
                "#B0BEC5",
                "#B0BEC5",
                "#B0BEC5",
                "#B0BEC5",
                "#B0BEC5",
                "#B0BEC5",
                "#B0BEC5",
                "red",
                "#B0BEC5",
                "#B0BEC5",
                "#B0BEC5"
               ]
              ]
             }
            ],
            "label": "Topic 24",
            "method": "update"
           },
           {
            "args": [
             {
              "marker.color": [
               [
                "#B0BEC5",
                "#B0BEC5",
                "#B0BEC5",
                "#B0BEC5",
                "#B0BEC5",
                "#B0BEC5",
                "#B0BEC5",
                "#B0BEC5",
                "#B0BEC5",
                "#B0BEC5",
                "#B0BEC5",
                "#B0BEC5",
                "#B0BEC5",
                "#B0BEC5",
                "#B0BEC5",
                "#B0BEC5",
                "#B0BEC5",
                "#B0BEC5",
                "#B0BEC5",
                "#B0BEC5",
                "#B0BEC5",
                "#B0BEC5",
                "#B0BEC5",
                "#B0BEC5",
                "#B0BEC5",
                "red",
                "#B0BEC5",
                "#B0BEC5"
               ]
              ]
             }
            ],
            "label": "Topic 25",
            "method": "update"
           },
           {
            "args": [
             {
              "marker.color": [
               [
                "#B0BEC5",
                "#B0BEC5",
                "#B0BEC5",
                "#B0BEC5",
                "#B0BEC5",
                "#B0BEC5",
                "#B0BEC5",
                "#B0BEC5",
                "#B0BEC5",
                "#B0BEC5",
                "#B0BEC5",
                "#B0BEC5",
                "#B0BEC5",
                "#B0BEC5",
                "#B0BEC5",
                "#B0BEC5",
                "#B0BEC5",
                "#B0BEC5",
                "#B0BEC5",
                "#B0BEC5",
                "#B0BEC5",
                "#B0BEC5",
                "#B0BEC5",
                "#B0BEC5",
                "#B0BEC5",
                "#B0BEC5",
                "red",
                "#B0BEC5"
               ]
              ]
             }
            ],
            "label": "Topic 26",
            "method": "update"
           },
           {
            "args": [
             {
              "marker.color": [
               [
                "#B0BEC5",
                "#B0BEC5",
                "#B0BEC5",
                "#B0BEC5",
                "#B0BEC5",
                "#B0BEC5",
                "#B0BEC5",
                "#B0BEC5",
                "#B0BEC5",
                "#B0BEC5",
                "#B0BEC5",
                "#B0BEC5",
                "#B0BEC5",
                "#B0BEC5",
                "#B0BEC5",
                "#B0BEC5",
                "#B0BEC5",
                "#B0BEC5",
                "#B0BEC5",
                "#B0BEC5",
                "#B0BEC5",
                "#B0BEC5",
                "#B0BEC5",
                "#B0BEC5",
                "#B0BEC5",
                "#B0BEC5",
                "#B0BEC5",
                "red"
               ]
              ]
             }
            ],
            "label": "Topic 27",
            "method": "update"
           }
          ]
         }
        ],
        "template": {
         "data": {
          "bar": [
           {
            "error_x": {
             "color": "rgb(36,36,36)"
            },
            "error_y": {
             "color": "rgb(36,36,36)"
            },
            "marker": {
             "line": {
              "color": "white",
              "width": 0.5
             },
             "pattern": {
              "fillmode": "overlay",
              "size": 10,
              "solidity": 0.2
             }
            },
            "type": "bar"
           }
          ],
          "barpolar": [
           {
            "marker": {
             "line": {
              "color": "white",
              "width": 0.5
             },
             "pattern": {
              "fillmode": "overlay",
              "size": 10,
              "solidity": 0.2
             }
            },
            "type": "barpolar"
           }
          ],
          "carpet": [
           {
            "aaxis": {
             "endlinecolor": "rgb(36,36,36)",
             "gridcolor": "white",
             "linecolor": "white",
             "minorgridcolor": "white",
             "startlinecolor": "rgb(36,36,36)"
            },
            "baxis": {
             "endlinecolor": "rgb(36,36,36)",
             "gridcolor": "white",
             "linecolor": "white",
             "minorgridcolor": "white",
             "startlinecolor": "rgb(36,36,36)"
            },
            "type": "carpet"
           }
          ],
          "choropleth": [
           {
            "colorbar": {
             "outlinewidth": 1,
             "tickcolor": "rgb(36,36,36)",
             "ticks": "outside"
            },
            "type": "choropleth"
           }
          ],
          "contour": [
           {
            "colorbar": {
             "outlinewidth": 1,
             "tickcolor": "rgb(36,36,36)",
             "ticks": "outside"
            },
            "colorscale": [
             [
              0,
              "#440154"
             ],
             [
              0.1111111111111111,
              "#482878"
             ],
             [
              0.2222222222222222,
              "#3e4989"
             ],
             [
              0.3333333333333333,
              "#31688e"
             ],
             [
              0.4444444444444444,
              "#26828e"
             ],
             [
              0.5555555555555556,
              "#1f9e89"
             ],
             [
              0.6666666666666666,
              "#35b779"
             ],
             [
              0.7777777777777778,
              "#6ece58"
             ],
             [
              0.8888888888888888,
              "#b5de2b"
             ],
             [
              1,
              "#fde725"
             ]
            ],
            "type": "contour"
           }
          ],
          "contourcarpet": [
           {
            "colorbar": {
             "outlinewidth": 1,
             "tickcolor": "rgb(36,36,36)",
             "ticks": "outside"
            },
            "type": "contourcarpet"
           }
          ],
          "heatmap": [
           {
            "colorbar": {
             "outlinewidth": 1,
             "tickcolor": "rgb(36,36,36)",
             "ticks": "outside"
            },
            "colorscale": [
             [
              0,
              "#440154"
             ],
             [
              0.1111111111111111,
              "#482878"
             ],
             [
              0.2222222222222222,
              "#3e4989"
             ],
             [
              0.3333333333333333,
              "#31688e"
             ],
             [
              0.4444444444444444,
              "#26828e"
             ],
             [
              0.5555555555555556,
              "#1f9e89"
             ],
             [
              0.6666666666666666,
              "#35b779"
             ],
             [
              0.7777777777777778,
              "#6ece58"
             ],
             [
              0.8888888888888888,
              "#b5de2b"
             ],
             [
              1,
              "#fde725"
             ]
            ],
            "type": "heatmap"
           }
          ],
          "heatmapgl": [
           {
            "colorbar": {
             "outlinewidth": 1,
             "tickcolor": "rgb(36,36,36)",
             "ticks": "outside"
            },
            "colorscale": [
             [
              0,
              "#440154"
             ],
             [
              0.1111111111111111,
              "#482878"
             ],
             [
              0.2222222222222222,
              "#3e4989"
             ],
             [
              0.3333333333333333,
              "#31688e"
             ],
             [
              0.4444444444444444,
              "#26828e"
             ],
             [
              0.5555555555555556,
              "#1f9e89"
             ],
             [
              0.6666666666666666,
              "#35b779"
             ],
             [
              0.7777777777777778,
              "#6ece58"
             ],
             [
              0.8888888888888888,
              "#b5de2b"
             ],
             [
              1,
              "#fde725"
             ]
            ],
            "type": "heatmapgl"
           }
          ],
          "histogram": [
           {
            "marker": {
             "line": {
              "color": "white",
              "width": 0.6
             }
            },
            "type": "histogram"
           }
          ],
          "histogram2d": [
           {
            "colorbar": {
             "outlinewidth": 1,
             "tickcolor": "rgb(36,36,36)",
             "ticks": "outside"
            },
            "colorscale": [
             [
              0,
              "#440154"
             ],
             [
              0.1111111111111111,
              "#482878"
             ],
             [
              0.2222222222222222,
              "#3e4989"
             ],
             [
              0.3333333333333333,
              "#31688e"
             ],
             [
              0.4444444444444444,
              "#26828e"
             ],
             [
              0.5555555555555556,
              "#1f9e89"
             ],
             [
              0.6666666666666666,
              "#35b779"
             ],
             [
              0.7777777777777778,
              "#6ece58"
             ],
             [
              0.8888888888888888,
              "#b5de2b"
             ],
             [
              1,
              "#fde725"
             ]
            ],
            "type": "histogram2d"
           }
          ],
          "histogram2dcontour": [
           {
            "colorbar": {
             "outlinewidth": 1,
             "tickcolor": "rgb(36,36,36)",
             "ticks": "outside"
            },
            "colorscale": [
             [
              0,
              "#440154"
             ],
             [
              0.1111111111111111,
              "#482878"
             ],
             [
              0.2222222222222222,
              "#3e4989"
             ],
             [
              0.3333333333333333,
              "#31688e"
             ],
             [
              0.4444444444444444,
              "#26828e"
             ],
             [
              0.5555555555555556,
              "#1f9e89"
             ],
             [
              0.6666666666666666,
              "#35b779"
             ],
             [
              0.7777777777777778,
              "#6ece58"
             ],
             [
              0.8888888888888888,
              "#b5de2b"
             ],
             [
              1,
              "#fde725"
             ]
            ],
            "type": "histogram2dcontour"
           }
          ],
          "mesh3d": [
           {
            "colorbar": {
             "outlinewidth": 1,
             "tickcolor": "rgb(36,36,36)",
             "ticks": "outside"
            },
            "type": "mesh3d"
           }
          ],
          "parcoords": [
           {
            "line": {
             "colorbar": {
              "outlinewidth": 1,
              "tickcolor": "rgb(36,36,36)",
              "ticks": "outside"
             }
            },
            "type": "parcoords"
           }
          ],
          "pie": [
           {
            "automargin": true,
            "type": "pie"
           }
          ],
          "scatter": [
           {
            "fillpattern": {
             "fillmode": "overlay",
             "size": 10,
             "solidity": 0.2
            },
            "type": "scatter"
           }
          ],
          "scatter3d": [
           {
            "line": {
             "colorbar": {
              "outlinewidth": 1,
              "tickcolor": "rgb(36,36,36)",
              "ticks": "outside"
             }
            },
            "marker": {
             "colorbar": {
              "outlinewidth": 1,
              "tickcolor": "rgb(36,36,36)",
              "ticks": "outside"
             }
            },
            "type": "scatter3d"
           }
          ],
          "scattercarpet": [
           {
            "marker": {
             "colorbar": {
              "outlinewidth": 1,
              "tickcolor": "rgb(36,36,36)",
              "ticks": "outside"
             }
            },
            "type": "scattercarpet"
           }
          ],
          "scattergeo": [
           {
            "marker": {
             "colorbar": {
              "outlinewidth": 1,
              "tickcolor": "rgb(36,36,36)",
              "ticks": "outside"
             }
            },
            "type": "scattergeo"
           }
          ],
          "scattergl": [
           {
            "marker": {
             "colorbar": {
              "outlinewidth": 1,
              "tickcolor": "rgb(36,36,36)",
              "ticks": "outside"
             }
            },
            "type": "scattergl"
           }
          ],
          "scattermapbox": [
           {
            "marker": {
             "colorbar": {
              "outlinewidth": 1,
              "tickcolor": "rgb(36,36,36)",
              "ticks": "outside"
             }
            },
            "type": "scattermapbox"
           }
          ],
          "scatterpolar": [
           {
            "marker": {
             "colorbar": {
              "outlinewidth": 1,
              "tickcolor": "rgb(36,36,36)",
              "ticks": "outside"
             }
            },
            "type": "scatterpolar"
           }
          ],
          "scatterpolargl": [
           {
            "marker": {
             "colorbar": {
              "outlinewidth": 1,
              "tickcolor": "rgb(36,36,36)",
              "ticks": "outside"
             }
            },
            "type": "scatterpolargl"
           }
          ],
          "scatterternary": [
           {
            "marker": {
             "colorbar": {
              "outlinewidth": 1,
              "tickcolor": "rgb(36,36,36)",
              "ticks": "outside"
             }
            },
            "type": "scatterternary"
           }
          ],
          "surface": [
           {
            "colorbar": {
             "outlinewidth": 1,
             "tickcolor": "rgb(36,36,36)",
             "ticks": "outside"
            },
            "colorscale": [
             [
              0,
              "#440154"
             ],
             [
              0.1111111111111111,
              "#482878"
             ],
             [
              0.2222222222222222,
              "#3e4989"
             ],
             [
              0.3333333333333333,
              "#31688e"
             ],
             [
              0.4444444444444444,
              "#26828e"
             ],
             [
              0.5555555555555556,
              "#1f9e89"
             ],
             [
              0.6666666666666666,
              "#35b779"
             ],
             [
              0.7777777777777778,
              "#6ece58"
             ],
             [
              0.8888888888888888,
              "#b5de2b"
             ],
             [
              1,
              "#fde725"
             ]
            ],
            "type": "surface"
           }
          ],
          "table": [
           {
            "cells": {
             "fill": {
              "color": "rgb(237,237,237)"
             },
             "line": {
              "color": "white"
             }
            },
            "header": {
             "fill": {
              "color": "rgb(217,217,217)"
             },
             "line": {
              "color": "white"
             }
            },
            "type": "table"
           }
          ]
         },
         "layout": {
          "annotationdefaults": {
           "arrowhead": 0,
           "arrowwidth": 1
          },
          "autotypenumbers": "strict",
          "coloraxis": {
           "colorbar": {
            "outlinewidth": 1,
            "tickcolor": "rgb(36,36,36)",
            "ticks": "outside"
           }
          },
          "colorscale": {
           "diverging": [
            [
             0,
             "rgb(103,0,31)"
            ],
            [
             0.1,
             "rgb(178,24,43)"
            ],
            [
             0.2,
             "rgb(214,96,77)"
            ],
            [
             0.3,
             "rgb(244,165,130)"
            ],
            [
             0.4,
             "rgb(253,219,199)"
            ],
            [
             0.5,
             "rgb(247,247,247)"
            ],
            [
             0.6,
             "rgb(209,229,240)"
            ],
            [
             0.7,
             "rgb(146,197,222)"
            ],
            [
             0.8,
             "rgb(67,147,195)"
            ],
            [
             0.9,
             "rgb(33,102,172)"
            ],
            [
             1,
             "rgb(5,48,97)"
            ]
           ],
           "sequential": [
            [
             0,
             "#440154"
            ],
            [
             0.1111111111111111,
             "#482878"
            ],
            [
             0.2222222222222222,
             "#3e4989"
            ],
            [
             0.3333333333333333,
             "#31688e"
            ],
            [
             0.4444444444444444,
             "#26828e"
            ],
            [
             0.5555555555555556,
             "#1f9e89"
            ],
            [
             0.6666666666666666,
             "#35b779"
            ],
            [
             0.7777777777777778,
             "#6ece58"
            ],
            [
             0.8888888888888888,
             "#b5de2b"
            ],
            [
             1,
             "#fde725"
            ]
           ],
           "sequentialminus": [
            [
             0,
             "#440154"
            ],
            [
             0.1111111111111111,
             "#482878"
            ],
            [
             0.2222222222222222,
             "#3e4989"
            ],
            [
             0.3333333333333333,
             "#31688e"
            ],
            [
             0.4444444444444444,
             "#26828e"
            ],
            [
             0.5555555555555556,
             "#1f9e89"
            ],
            [
             0.6666666666666666,
             "#35b779"
            ],
            [
             0.7777777777777778,
             "#6ece58"
            ],
            [
             0.8888888888888888,
             "#b5de2b"
            ],
            [
             1,
             "#fde725"
            ]
           ]
          },
          "colorway": [
           "#1F77B4",
           "#FF7F0E",
           "#2CA02C",
           "#D62728",
           "#9467BD",
           "#8C564B",
           "#E377C2",
           "#7F7F7F",
           "#BCBD22",
           "#17BECF"
          ],
          "font": {
           "color": "rgb(36,36,36)"
          },
          "geo": {
           "bgcolor": "white",
           "lakecolor": "white",
           "landcolor": "white",
           "showlakes": true,
           "showland": true,
           "subunitcolor": "white"
          },
          "hoverlabel": {
           "align": "left"
          },
          "hovermode": "closest",
          "mapbox": {
           "style": "light"
          },
          "paper_bgcolor": "white",
          "plot_bgcolor": "white",
          "polar": {
           "angularaxis": {
            "gridcolor": "rgb(232,232,232)",
            "linecolor": "rgb(36,36,36)",
            "showgrid": false,
            "showline": true,
            "ticks": "outside"
           },
           "bgcolor": "white",
           "radialaxis": {
            "gridcolor": "rgb(232,232,232)",
            "linecolor": "rgb(36,36,36)",
            "showgrid": false,
            "showline": true,
            "ticks": "outside"
           }
          },
          "scene": {
           "xaxis": {
            "backgroundcolor": "white",
            "gridcolor": "rgb(232,232,232)",
            "gridwidth": 2,
            "linecolor": "rgb(36,36,36)",
            "showbackground": true,
            "showgrid": false,
            "showline": true,
            "ticks": "outside",
            "zeroline": false,
            "zerolinecolor": "rgb(36,36,36)"
           },
           "yaxis": {
            "backgroundcolor": "white",
            "gridcolor": "rgb(232,232,232)",
            "gridwidth": 2,
            "linecolor": "rgb(36,36,36)",
            "showbackground": true,
            "showgrid": false,
            "showline": true,
            "ticks": "outside",
            "zeroline": false,
            "zerolinecolor": "rgb(36,36,36)"
           },
           "zaxis": {
            "backgroundcolor": "white",
            "gridcolor": "rgb(232,232,232)",
            "gridwidth": 2,
            "linecolor": "rgb(36,36,36)",
            "showbackground": true,
            "showgrid": false,
            "showline": true,
            "ticks": "outside",
            "zeroline": false,
            "zerolinecolor": "rgb(36,36,36)"
           }
          },
          "shapedefaults": {
           "fillcolor": "black",
           "line": {
            "width": 0
           },
           "opacity": 0.3
          },
          "ternary": {
           "aaxis": {
            "gridcolor": "rgb(232,232,232)",
            "linecolor": "rgb(36,36,36)",
            "showgrid": false,
            "showline": true,
            "ticks": "outside"
           },
           "baxis": {
            "gridcolor": "rgb(232,232,232)",
            "linecolor": "rgb(36,36,36)",
            "showgrid": false,
            "showline": true,
            "ticks": "outside"
           },
           "bgcolor": "white",
           "caxis": {
            "gridcolor": "rgb(232,232,232)",
            "linecolor": "rgb(36,36,36)",
            "showgrid": false,
            "showline": true,
            "ticks": "outside"
           }
          },
          "title": {
           "x": 0.05
          },
          "xaxis": {
           "automargin": true,
           "gridcolor": "rgb(232,232,232)",
           "linecolor": "rgb(36,36,36)",
           "showgrid": false,
           "showline": true,
           "ticks": "outside",
           "title": {
            "standoff": 15
           },
           "zeroline": false,
           "zerolinecolor": "rgb(36,36,36)"
          },
          "yaxis": {
           "automargin": true,
           "gridcolor": "rgb(232,232,232)",
           "linecolor": "rgb(36,36,36)",
           "showgrid": false,
           "showline": true,
           "ticks": "outside",
           "title": {
            "standoff": 15
           },
           "zeroline": false,
           "zerolinecolor": "rgb(36,36,36)"
          }
         }
        },
        "title": {
         "font": {
          "color": "Black",
          "size": 22
         },
         "text": "<b>Intertopic Distance Map</b>",
         "x": 0.5,
         "xanchor": "center",
         "y": 0.95,
         "yanchor": "top"
        },
        "width": 650,
        "xaxis": {
         "anchor": "y",
         "domain": [
          0,
          1
         ],
         "range": [
          -9.144880771636963,
          22.085208129882812
         ],
         "title": {
          "text": ""
         },
         "visible": false
        },
        "yaxis": {
         "anchor": "x",
         "domain": [
          0,
          1
         ],
         "range": [
          1.1678450405597687,
          23.283477210998534
         ],
         "title": {
          "text": ""
         },
         "visible": false
        }
       }
      }
     },
     "metadata": {},
     "output_type": "display_data"
    }
   ],
   "source": [
    "topic_model.visualize_topics()\n"
   ]
  },
  {
   "cell_type": "code",
   "execution_count": 8,
   "metadata": {},
   "outputs": [
    {
     "data": {
      "application/vnd.plotly.v1+json": {
       "config": {
        "plotlyServerURL": "https://plot.ly"
       },
       "data": [
        {
         "coloraxis": "coloraxis",
         "hovertemplate": "x: %{x}<br>y: %{y}<br>Similarity Score: %{z}<extra></extra>",
         "name": "0",
         "type": "heatmap",
         "x": [
          "0_silas_opus_altar",
          "1_magdalene_grail_priory",
          "2_sophie_sophies_family",
          "3_vernet_vernets_sophie",
          "4_magdalene_magdalenes_gosp...",
          "5_tomb_poem_tombs",
          "6_inspector_teabing_hawker",
          "7_teabing_teabings_tea",
          "8_louvre_langdon_louvres",
          "9_langdon_langdons_vinci",
          "10_sophie_langdon_langdons",
          "11_langdon_sophie_langdons",
          "12_leonardo_vinci_sophie",
          "13_priory_priorys_templars",
          "14_collet_collets_barn",
          "15_templar_priory_masonic",
          "16_langdon_collet_langdons",
          "17_langdon_langdons_mickey",
          "18_symbolism_symbols_symbol",
          "19_hallway_cloisters_archway",
          "20_fache_sophie_faches",
          "21_atbash_cipher_alphabet",
          "22_phi_langdon_phis",
          "23_intercourse_sexual_pries...",
          "24_langdon_langdons_sophie",
          "25_cryptex_cryptanalysts_ci...",
          "26_langdon_coat_monsieur",
          "27_langdon_fibonacci_numbers"
         ],
         "xaxis": "x",
         "y": [
          "0_silas_opus_altar",
          "1_magdalene_grail_priory",
          "2_sophie_sophies_family",
          "3_vernet_vernets_sophie",
          "4_magdalene_magdalenes_gosp...",
          "5_tomb_poem_tombs",
          "6_inspector_teabing_hawker",
          "7_teabing_teabings_tea",
          "8_louvre_langdon_louvres",
          "9_langdon_langdons_vinci",
          "10_sophie_langdon_langdons",
          "11_langdon_sophie_langdons",
          "12_leonardo_vinci_sophie",
          "13_priory_priorys_templars",
          "14_collet_collets_barn",
          "15_templar_priory_masonic",
          "16_langdon_collet_langdons",
          "17_langdon_langdons_mickey",
          "18_symbolism_symbols_symbol",
          "19_hallway_cloisters_archway",
          "20_fache_sophie_faches",
          "21_atbash_cipher_alphabet",
          "22_phi_langdon_phis",
          "23_intercourse_sexual_pries...",
          "24_langdon_langdons_sophie",
          "25_cryptex_cryptanalysts_ci...",
          "26_langdon_coat_monsieur",
          "27_langdon_fibonacci_numbers"
         ],
         "yaxis": "y",
         "z": [
          [
           1.0000001192092896,
           0.7192156910896301,
           0.6170046329498291,
           0.6663602590560913,
           0.6839894652366638,
           0.6683945655822754,
           0.5675522089004517,
           0.5853973627090454,
           0.5490236282348633,
           0.6607327461242676,
           0.620908260345459,
           0.607761025428772,
           0.6732168197631836,
           0.6531769037246704,
           0.6350858211517334,
           0.6742427349090576,
           0.609455943107605,
           0.665063202381134,
           0.576819121837616,
           0.6245114803314209,
           0.6135135889053345,
           0.6121950149536133,
           0.620181679725647,
           0.6939115524291992,
           0.6793331503868103,
           0.5107201933860779,
           0.7001651525497437,
           0.5261980295181274
          ],
          [
           0.7192156910896301,
           1,
           0.7092178463935852,
           0.6671923995018005,
           0.8949440717697144,
           0.6807383298873901,
           0.5431877970695496,
           0.6422797441482544,
           0.6629005074501038,
           0.8199673891067505,
           0.7723901867866516,
           0.7591156959533691,
           0.8144971132278442,
           0.7933982610702515,
           0.5890825986862183,
           0.736894428730011,
           0.703412652015686,
           0.7679641246795654,
           0.5435494780540466,
           0.6919898986816406,
           0.6960045695304871,
           0.5585294961929321,
           0.6505831480026245,
           0.6210869550704956,
           0.8074242472648621,
           0.5241101980209351,
           0.7115842700004578,
           0.6042944192886353
          ],
          [
           0.6170046329498291,
           0.7092178463935852,
           1.0000003576278687,
           0.7100176811218262,
           0.654044508934021,
           0.5347219705581665,
           0.5521060824394226,
           0.6299525499343872,
           0.5336616635322571,
           0.6276230812072754,
           0.8378579616546631,
           0.7625620365142822,
           0.7283456325531006,
           0.466136634349823,
           0.5915814638137817,
           0.48421812057495117,
           0.5623316168785095,
           0.5861811637878418,
           0.5049523115158081,
           0.5184347033500671,
           0.7739468812942505,
           0.4953070282936096,
           0.5422303080558777,
           0.6032049655914307,
           0.6870644092559814,
           0.43993303179740906,
           0.6475028991699219,
           0.5353833436965942
          ],
          [
           0.6663602590560913,
           0.6671923995018005,
           0.7100176811218262,
           1,
           0.574155867099762,
           0.5959734320640564,
           0.5446653366088867,
           0.5829250812530518,
           0.6172082424163818,
           0.6881598234176636,
           0.7407929301261902,
           0.760629415512085,
           0.6918227672576904,
           0.5654408931732178,
           0.6320719718933105,
           0.6065642833709717,
           0.6466537714004517,
           0.6392474174499512,
           0.5415428280830383,
           0.6030580997467041,
           0.7501782178878784,
           0.5914013385772705,
           0.6372970342636108,
           0.5762124061584473,
           0.7221492528915405,
           0.5527670383453369,
           0.7089813947677612,
           0.613013505935669
          ],
          [
           0.6839894652366638,
           0.8949440717697144,
           0.654044508934021,
           0.574155867099762,
           1.000000238418579,
           0.5959946513175964,
           0.44218164682388306,
           0.5669611692428589,
           0.5713580846786499,
           0.7466862201690674,
           0.7162597179412842,
           0.6603589653968811,
           0.7772493958473206,
           0.7312874794006348,
           0.4712844491004944,
           0.6633509397506714,
           0.5969665050506592,
           0.6875983476638794,
           0.5344568490982056,
           0.5881633758544922,
           0.6030079126358032,
           0.5148864388465881,
           0.5781641006469727,
           0.5760703086853027,
           0.7244221568107605,
           0.4404558539390564,
           0.5957061648368835,
           0.5352936387062073
          ],
          [
           0.6683945655822754,
           0.6807383298873901,
           0.5347219705581665,
           0.5959734320640564,
           0.5959946513175964,
           0.9999998807907104,
           0.5629189014434814,
           0.5600283145904541,
           0.6503028869628906,
           0.6034006476402283,
           0.5428023338317871,
           0.5485449433326721,
           0.5933629274368286,
           0.697829008102417,
           0.634485125541687,
           0.6831140518188477,
           0.5796517133712769,
           0.5804392099380493,
           0.5896660089492798,
           0.6970088481903076,
           0.5584803819656372,
           0.5934456586837769,
           0.5213152766227722,
           0.652193009853363,
           0.5972406268119812,
           0.5945090055465698,
           0.6589365005493164,
           0.51936936378479
          ],
          [
           0.5675522089004517,
           0.5431877970695496,
           0.5521060824394226,
           0.5446653366088867,
           0.44218164682388306,
           0.5629189014434814,
           1,
           0.8179188966751099,
           0.4614790380001068,
           0.5135492086410522,
           0.5409858226776123,
           0.620437741279602,
           0.5275636911392212,
           0.48614996671676636,
           0.6536134481430054,
           0.5025794506072998,
           0.6203314661979675,
           0.5639806985855103,
           0.4982714354991913,
           0.5768166780471802,
           0.5602585673332214,
           0.5246075391769409,
           0.48419755697250366,
           0.5337138175964355,
           0.5934185981750488,
           0.45103681087493896,
           0.6294176578521729,
           0.48578381538391113
          ],
          [
           0.5853973627090454,
           0.6422797441482544,
           0.6299525499343872,
           0.5829250812530518,
           0.5669611692428589,
           0.5600283145904541,
           0.8179188966751099,
           1,
           0.4671650230884552,
           0.6040372848510742,
           0.6724855303764343,
           0.6561943292617798,
           0.6321038603782654,
           0.4989358186721802,
           0.5989260673522949,
           0.48665449023246765,
           0.6255112886428833,
           0.5961325168609619,
           0.5069406628608704,
           0.5840551853179932,
           0.5960570573806763,
           0.5129241347312927,
           0.5393220782279968,
           0.5517213940620422,
           0.6865306496620178,
           0.4073134958744049,
           0.6508176326751709,
           0.5016939640045166
          ],
          [
           0.5490236282348633,
           0.6629005074501038,
           0.5336616635322571,
           0.6172082424163818,
           0.5713580846786499,
           0.6503028869628906,
           0.4614790380001068,
           0.4671650230884552,
           1,
           0.7513577938079834,
           0.6504892110824585,
           0.7085490226745605,
           0.7699497938156128,
           0.649840772151947,
           0.5757072567939758,
           0.7398395538330078,
           0.6707940101623535,
           0.7609243392944336,
           0.5205036401748657,
           0.7899221181869507,
           0.6716432571411133,
           0.4259715676307678,
           0.5870558023452759,
           0.49313485622406006,
           0.6972331404685974,
           0.4361036419868469,
           0.6861944198608398,
           0.5387163162231445
          ],
          [
           0.6607327461242676,
           0.8199673891067505,
           0.6276230812072754,
           0.6881598234176636,
           0.7466862201690674,
           0.6034006476402283,
           0.5135492086410522,
           0.6040372848510742,
           0.7513577938079834,
           1.000000238418579,
           0.8168022036552429,
           0.8150851130485535,
           0.8351531028747559,
           0.7510251998901367,
           0.5412856340408325,
           0.7424989938735962,
           0.7884677648544312,
           0.8777244091033936,
           0.5243099927902222,
           0.6949596405029297,
           0.7337983846664429,
           0.5235788822174072,
           0.7052644491195679,
           0.517664909362793,
           0.8851256370544434,
           0.4358643889427185,
           0.7084594964981079,
           0.6368520259857178
          ],
          [
           0.620908260345459,
           0.7723901867866516,
           0.8378579616546631,
           0.7407929301261902,
           0.7162597179412842,
           0.5428023338317871,
           0.5409858226776123,
           0.6724855303764343,
           0.6504892110824585,
           0.8168022036552429,
           1.000000238418579,
           0.8790141940116882,
           0.8233861923217773,
           0.6017524003982544,
           0.5813340544700623,
           0.6153576374053955,
           0.7078062295913696,
           0.7955754399299622,
           0.5398858785629272,
           0.6405737400054932,
           0.7812353372573853,
           0.5204507112503052,
           0.669722318649292,
           0.5497047305107117,
           0.8795252442359924,
           0.47162044048309326,
           0.7222980260848999,
           0.6338127255439758
          ],
          [
           0.607761025428772,
           0.7591156959533691,
           0.7625620365142822,
           0.760629415512085,
           0.6603589653968811,
           0.5485449433326721,
           0.620437741279602,
           0.6561943292617798,
           0.7085490226745605,
           0.8150851130485535,
           0.8790141940116882,
           0.9999999403953552,
           0.7929686307907104,
           0.6047173738479614,
           0.621647834777832,
           0.6443494558334351,
           0.7625932693481445,
           0.7990349531173706,
           0.5462688207626343,
           0.6853023767471313,
           0.8009405136108398,
           0.5192261934280396,
           0.6808493137359619,
           0.5138583779335022,
           0.8630541563034058,
           0.47385406494140625,
           0.7315562963485718,
           0.6427328586578369
          ],
          [
           0.6732168197631836,
           0.8144971132278442,
           0.7283456325531006,
           0.6918227672576904,
           0.7772493958473206,
           0.5933629274368286,
           0.5275636911392212,
           0.6321038603782654,
           0.7699497938156128,
           0.8351531028747559,
           0.8233861923217773,
           0.7929686307907104,
           1,
           0.6749491691589355,
           0.539764940738678,
           0.6601428389549255,
           0.6551392674446106,
           0.7906702756881714,
           0.5463141798973083,
           0.6446760296821594,
           0.7118681073188782,
           0.5044816732406616,
           0.6746126413345337,
           0.5373721122741699,
           0.7967370748519897,
           0.4374314248561859,
           0.6832499504089355,
           0.6026445627212524
          ],
          [
           0.6531769037246704,
           0.7933982610702515,
           0.466136634349823,
           0.5654408931732178,
           0.7312874794006348,
           0.697829008102417,
           0.48614996671676636,
           0.4989358186721802,
           0.649840772151947,
           0.7510251998901367,
           0.6017524003982544,
           0.6047173738479614,
           0.6749491691589355,
           1.0000001192092896,
           0.4969691336154938,
           0.8934386968612671,
           0.6341884136199951,
           0.7512907385826111,
           0.4952648878097534,
           0.7269765734672546,
           0.5423244833946228,
           0.5155637264251709,
           0.6198431253433228,
           0.5279932022094727,
           0.6988179683685303,
           0.5133010745048523,
           0.5933408737182617,
           0.5302330255508423
          ],
          [
           0.6350858211517334,
           0.5890825986862183,
           0.5915814638137817,
           0.6320719718933105,
           0.4712844491004944,
           0.634485125541687,
           0.6536134481430054,
           0.5989260673522949,
           0.5757072567939758,
           0.5412856340408325,
           0.5813340544700623,
           0.621647834777832,
           0.539764940738678,
           0.4969691336154938,
           1.000000238418579,
           0.5444135665893555,
           0.7839622497558594,
           0.6056435108184814,
           0.5185707807540894,
           0.6691691875457764,
           0.6369116306304932,
           0.5395788550376892,
           0.5523881912231445,
           0.5848983526229858,
           0.6185264587402344,
           0.518397331237793,
           0.7301539182662964,
           0.5461673736572266
          ],
          [
           0.6742427349090576,
           0.736894428730011,
           0.48421812057495117,
           0.6065642833709717,
           0.6633509397506714,
           0.6831140518188477,
           0.5025794506072998,
           0.48665449023246765,
           0.7398395538330078,
           0.7424989938735962,
           0.6153576374053955,
           0.6443494558334351,
           0.6601428389549255,
           0.8934386968612671,
           0.5444135665893555,
           0.9999997615814209,
           0.6662243604660034,
           0.7679191827774048,
           0.5807913541793823,
           0.8382676839828491,
           0.5714284181594849,
           0.5072454214096069,
           0.636422872543335,
           0.5531888008117676,
           0.7246204614639282,
           0.5162651538848877,
           0.6204496026039124,
           0.5496594309806824
          ],
          [
           0.609455943107605,
           0.703412652015686,
           0.5623316168785095,
           0.6466537714004517,
           0.5969665050506592,
           0.5796517133712769,
           0.6203314661979675,
           0.6255112886428833,
           0.6707940101623535,
           0.7884677648544312,
           0.7078062295913696,
           0.7625932693481445,
           0.6551392674446106,
           0.6341884136199951,
           0.7839622497558594,
           0.6662243604660034,
           1,
           0.8055872917175293,
           0.5713987350463867,
           0.6950181722640991,
           0.721853494644165,
           0.5037703514099121,
           0.6301587820053101,
           0.5137228965759277,
           0.7980173826217651,
           0.4798962473869324,
           0.701499342918396,
           0.6294921636581421
          ],
          [
           0.665063202381134,
           0.7679641246795654,
           0.5861811637878418,
           0.6392474174499512,
           0.6875983476638794,
           0.5804392099380493,
           0.5639806985855103,
           0.5961325168609619,
           0.7609243392944336,
           0.8777244091033936,
           0.7955754399299622,
           0.7990349531173706,
           0.7906702756881714,
           0.7512907385826111,
           0.6056435108184814,
           0.7679191827774048,
           0.8055872917175293,
           1.000000238418579,
           0.5475438237190247,
           0.7300878763198853,
           0.6692153215408325,
           0.4898737072944641,
           0.7101829051971436,
           0.5079193711280823,
           0.8950626850128174,
           0.4339478611946106,
           0.7432850003242493,
           0.6318023800849915
          ],
          [
           0.576819121837616,
           0.5435494780540466,
           0.5049523115158081,
           0.5415428280830383,
           0.5344568490982056,
           0.5896660089492798,
           0.4982714354991913,
           0.5069406628608704,
           0.5205036401748657,
           0.5243099927902222,
           0.5398858785629272,
           0.5462688207626343,
           0.5463141798973083,
           0.4952648878097534,
           0.5185707807540894,
           0.5807913541793823,
           0.5713987350463867,
           0.5475438237190247,
           1.0000001192092896,
           0.5561996698379517,
           0.5463656187057495,
           0.6386427879333496,
           0.5503235459327698,
           0.6256624460220337,
           0.5608135461807251,
           0.5191716551780701,
           0.5290423631668091,
           0.5293921232223511
          ],
          [
           0.6245114803314209,
           0.6919898986816406,
           0.5184347033500671,
           0.6030580997467041,
           0.5881633758544922,
           0.6970088481903076,
           0.5768166780471802,
           0.5840551853179932,
           0.7899221181869507,
           0.6949596405029297,
           0.6405737400054932,
           0.6853023767471313,
           0.6446760296821594,
           0.7269765734672546,
           0.6691691875457764,
           0.8382676839828491,
           0.6950181722640991,
           0.7300878763198853,
           0.5561996698379517,
           1,
           0.6136445999145508,
           0.514845609664917,
           0.5781475901603699,
           0.5442076325416565,
           0.7076137065887451,
           0.4835544228553772,
           0.715110719203949,
           0.5239986181259155
          ],
          [
           0.6135135889053345,
           0.6960045695304871,
           0.7739468812942505,
           0.7501782178878784,
           0.6030079126358032,
           0.5584803819656372,
           0.5602585673332214,
           0.5960570573806763,
           0.6716432571411133,
           0.7337983846664429,
           0.7812353372573853,
           0.8009405136108398,
           0.7118681073188782,
           0.5423244833946228,
           0.6369116306304932,
           0.5714284181594849,
           0.721853494644165,
           0.6692153215408325,
           0.5463656187057495,
           0.6136445999145508,
           1.0000001192092896,
           0.5997588634490967,
           0.6040958166122437,
           0.581592857837677,
           0.7324135303497314,
           0.5273458957672119,
           0.7179023027420044,
           0.6458615064620972
          ],
          [
           0.6121950149536133,
           0.5585294961929321,
           0.4953070282936096,
           0.5914013385772705,
           0.5148864388465881,
           0.5934456586837769,
           0.5246075391769409,
           0.5129241347312927,
           0.4259715676307678,
           0.5235788822174072,
           0.5204507112503052,
           0.5192261934280396,
           0.5044816732406616,
           0.5155637264251709,
           0.5395788550376892,
           0.5072454214096069,
           0.5037703514099121,
           0.4898737072944641,
           0.6386427879333496,
           0.514845609664917,
           0.5997588634490967,
           0.9999998807907104,
           0.5751765966415405,
           0.5668708086013794,
           0.5294504761695862,
           0.7132812738418579,
           0.5871809720993042,
           0.6340783834457397
          ],
          [
           0.620181679725647,
           0.6505831480026245,
           0.5422303080558777,
           0.6372970342636108,
           0.5781641006469727,
           0.5213152766227722,
           0.48419755697250366,
           0.5393220782279968,
           0.5870558023452759,
           0.7052644491195679,
           0.669722318649292,
           0.6808493137359619,
           0.6746126413345337,
           0.6198431253433228,
           0.5523881912231445,
           0.636422872543335,
           0.6301587820053101,
           0.7101829051971436,
           0.5503235459327698,
           0.5781475901603699,
           0.6040958166122437,
           0.5751765966415405,
           1.0000001192092896,
           0.5302262306213379,
           0.7315633296966553,
           0.5362683534622192,
           0.6477066278457642,
           0.7637156248092651
          ],
          [
           0.6939115524291992,
           0.6210869550704956,
           0.6032049655914307,
           0.5762124061584473,
           0.5760703086853027,
           0.652193009853363,
           0.5337138175964355,
           0.5517213940620422,
           0.49313485622406006,
           0.517664909362793,
           0.5497047305107117,
           0.5138583779335022,
           0.5373721122741699,
           0.5279932022094727,
           0.5848983526229858,
           0.5531888008117676,
           0.5137228965759277,
           0.5079193711280823,
           0.6256624460220337,
           0.5442076325416565,
           0.581592857837677,
           0.5668708086013794,
           0.5302262306213379,
           1,
           0.5288798213005066,
           0.5350898504257202,
           0.6352165341377258,
           0.49492430686950684
          ],
          [
           0.6793331503868103,
           0.8074242472648621,
           0.6870644092559814,
           0.7221492528915405,
           0.7244221568107605,
           0.5972406268119812,
           0.5934185981750488,
           0.6865306496620178,
           0.6972331404685974,
           0.8851256370544434,
           0.8795252442359924,
           0.8630541563034058,
           0.7967370748519897,
           0.6988179683685303,
           0.6185264587402344,
           0.7246204614639282,
           0.7980173826217651,
           0.8950626850128174,
           0.5608135461807251,
           0.7076137065887451,
           0.7324135303497314,
           0.5294504761695862,
           0.7315633296966553,
           0.5288798213005066,
           1.0000001192092896,
           0.4733750820159912,
           0.7676531076431274,
           0.6536708474159241
          ],
          [
           0.5107201933860779,
           0.5241101980209351,
           0.43993303179740906,
           0.5527670383453369,
           0.4404558539390564,
           0.5945090055465698,
           0.45103681087493896,
           0.4073134958744049,
           0.4361036419868469,
           0.4358643889427185,
           0.47162044048309326,
           0.47385406494140625,
           0.4374314248561859,
           0.5133010745048523,
           0.518397331237793,
           0.5162651538848877,
           0.4798962473869324,
           0.4339478611946106,
           0.5191716551780701,
           0.4835544228553772,
           0.5273458957672119,
           0.7132812738418579,
           0.5362683534622192,
           0.5350898504257202,
           0.4733750820159912,
           1.000000238418579,
           0.5448881387710571,
           0.6144281029701233
          ],
          [
           0.7001651525497437,
           0.7115842700004578,
           0.6475028991699219,
           0.7089813947677612,
           0.5957061648368835,
           0.6589365005493164,
           0.6294176578521729,
           0.6508176326751709,
           0.6861944198608398,
           0.7084594964981079,
           0.7222980260848999,
           0.7315562963485718,
           0.6832499504089355,
           0.5933408737182617,
           0.7301539182662964,
           0.6204496026039124,
           0.701499342918396,
           0.7432850003242493,
           0.5290423631668091,
           0.715110719203949,
           0.7179023027420044,
           0.5871809720993042,
           0.6477066278457642,
           0.6352165341377258,
           0.7676531076431274,
           0.5448881387710571,
           1,
           0.6057960987091064
          ],
          [
           0.5261980295181274,
           0.6042944192886353,
           0.5353833436965942,
           0.613013505935669,
           0.5352936387062073,
           0.51936936378479,
           0.48578381538391113,
           0.5016939640045166,
           0.5387163162231445,
           0.6368520259857178,
           0.6338127255439758,
           0.6427328586578369,
           0.6026445627212524,
           0.5302330255508423,
           0.5461673736572266,
           0.5496594309806824,
           0.6294921636581421,
           0.6318023800849915,
           0.5293921232223511,
           0.5239986181259155,
           0.6458615064620972,
           0.6340783834457397,
           0.7637156248092651,
           0.49492430686950684,
           0.6536708474159241,
           0.6144281029701233,
           0.6057960987091064,
           1
          ]
         ]
        }
       ],
       "layout": {
        "coloraxis": {
         "colorbar": {
          "title": {
           "text": "Similarity Score"
          }
         },
         "colorscale": [
          [
           0,
           "rgb(247,252,240)"
          ],
          [
           0.125,
           "rgb(224,243,219)"
          ],
          [
           0.25,
           "rgb(204,235,197)"
          ],
          [
           0.375,
           "rgb(168,221,181)"
          ],
          [
           0.5,
           "rgb(123,204,196)"
          ],
          [
           0.625,
           "rgb(78,179,211)"
          ],
          [
           0.75,
           "rgb(43,140,190)"
          ],
          [
           0.875,
           "rgb(8,104,172)"
          ],
          [
           1,
           "rgb(8,64,129)"
          ]
         ]
        },
        "height": 800,
        "hoverlabel": {
         "bgcolor": "white",
         "font": {
          "family": "Rockwell",
          "size": 16
         }
        },
        "legend": {
         "title": {
          "text": "Trend"
         }
        },
        "margin": {
         "t": 60
        },
        "showlegend": true,
        "template": {
         "data": {
          "bar": [
           {
            "error_x": {
             "color": "#2a3f5f"
            },
            "error_y": {
             "color": "#2a3f5f"
            },
            "marker": {
             "line": {
              "color": "#E5ECF6",
              "width": 0.5
             },
             "pattern": {
              "fillmode": "overlay",
              "size": 10,
              "solidity": 0.2
             }
            },
            "type": "bar"
           }
          ],
          "barpolar": [
           {
            "marker": {
             "line": {
              "color": "#E5ECF6",
              "width": 0.5
             },
             "pattern": {
              "fillmode": "overlay",
              "size": 10,
              "solidity": 0.2
             }
            },
            "type": "barpolar"
           }
          ],
          "carpet": [
           {
            "aaxis": {
             "endlinecolor": "#2a3f5f",
             "gridcolor": "white",
             "linecolor": "white",
             "minorgridcolor": "white",
             "startlinecolor": "#2a3f5f"
            },
            "baxis": {
             "endlinecolor": "#2a3f5f",
             "gridcolor": "white",
             "linecolor": "white",
             "minorgridcolor": "white",
             "startlinecolor": "#2a3f5f"
            },
            "type": "carpet"
           }
          ],
          "choropleth": [
           {
            "colorbar": {
             "outlinewidth": 0,
             "ticks": ""
            },
            "type": "choropleth"
           }
          ],
          "contour": [
           {
            "colorbar": {
             "outlinewidth": 0,
             "ticks": ""
            },
            "colorscale": [
             [
              0,
              "#0d0887"
             ],
             [
              0.1111111111111111,
              "#46039f"
             ],
             [
              0.2222222222222222,
              "#7201a8"
             ],
             [
              0.3333333333333333,
              "#9c179e"
             ],
             [
              0.4444444444444444,
              "#bd3786"
             ],
             [
              0.5555555555555556,
              "#d8576b"
             ],
             [
              0.6666666666666666,
              "#ed7953"
             ],
             [
              0.7777777777777778,
              "#fb9f3a"
             ],
             [
              0.8888888888888888,
              "#fdca26"
             ],
             [
              1,
              "#f0f921"
             ]
            ],
            "type": "contour"
           }
          ],
          "contourcarpet": [
           {
            "colorbar": {
             "outlinewidth": 0,
             "ticks": ""
            },
            "type": "contourcarpet"
           }
          ],
          "heatmap": [
           {
            "colorbar": {
             "outlinewidth": 0,
             "ticks": ""
            },
            "colorscale": [
             [
              0,
              "#0d0887"
             ],
             [
              0.1111111111111111,
              "#46039f"
             ],
             [
              0.2222222222222222,
              "#7201a8"
             ],
             [
              0.3333333333333333,
              "#9c179e"
             ],
             [
              0.4444444444444444,
              "#bd3786"
             ],
             [
              0.5555555555555556,
              "#d8576b"
             ],
             [
              0.6666666666666666,
              "#ed7953"
             ],
             [
              0.7777777777777778,
              "#fb9f3a"
             ],
             [
              0.8888888888888888,
              "#fdca26"
             ],
             [
              1,
              "#f0f921"
             ]
            ],
            "type": "heatmap"
           }
          ],
          "heatmapgl": [
           {
            "colorbar": {
             "outlinewidth": 0,
             "ticks": ""
            },
            "colorscale": [
             [
              0,
              "#0d0887"
             ],
             [
              0.1111111111111111,
              "#46039f"
             ],
             [
              0.2222222222222222,
              "#7201a8"
             ],
             [
              0.3333333333333333,
              "#9c179e"
             ],
             [
              0.4444444444444444,
              "#bd3786"
             ],
             [
              0.5555555555555556,
              "#d8576b"
             ],
             [
              0.6666666666666666,
              "#ed7953"
             ],
             [
              0.7777777777777778,
              "#fb9f3a"
             ],
             [
              0.8888888888888888,
              "#fdca26"
             ],
             [
              1,
              "#f0f921"
             ]
            ],
            "type": "heatmapgl"
           }
          ],
          "histogram": [
           {
            "marker": {
             "pattern": {
              "fillmode": "overlay",
              "size": 10,
              "solidity": 0.2
             }
            },
            "type": "histogram"
           }
          ],
          "histogram2d": [
           {
            "colorbar": {
             "outlinewidth": 0,
             "ticks": ""
            },
            "colorscale": [
             [
              0,
              "#0d0887"
             ],
             [
              0.1111111111111111,
              "#46039f"
             ],
             [
              0.2222222222222222,
              "#7201a8"
             ],
             [
              0.3333333333333333,
              "#9c179e"
             ],
             [
              0.4444444444444444,
              "#bd3786"
             ],
             [
              0.5555555555555556,
              "#d8576b"
             ],
             [
              0.6666666666666666,
              "#ed7953"
             ],
             [
              0.7777777777777778,
              "#fb9f3a"
             ],
             [
              0.8888888888888888,
              "#fdca26"
             ],
             [
              1,
              "#f0f921"
             ]
            ],
            "type": "histogram2d"
           }
          ],
          "histogram2dcontour": [
           {
            "colorbar": {
             "outlinewidth": 0,
             "ticks": ""
            },
            "colorscale": [
             [
              0,
              "#0d0887"
             ],
             [
              0.1111111111111111,
              "#46039f"
             ],
             [
              0.2222222222222222,
              "#7201a8"
             ],
             [
              0.3333333333333333,
              "#9c179e"
             ],
             [
              0.4444444444444444,
              "#bd3786"
             ],
             [
              0.5555555555555556,
              "#d8576b"
             ],
             [
              0.6666666666666666,
              "#ed7953"
             ],
             [
              0.7777777777777778,
              "#fb9f3a"
             ],
             [
              0.8888888888888888,
              "#fdca26"
             ],
             [
              1,
              "#f0f921"
             ]
            ],
            "type": "histogram2dcontour"
           }
          ],
          "mesh3d": [
           {
            "colorbar": {
             "outlinewidth": 0,
             "ticks": ""
            },
            "type": "mesh3d"
           }
          ],
          "parcoords": [
           {
            "line": {
             "colorbar": {
              "outlinewidth": 0,
              "ticks": ""
             }
            },
            "type": "parcoords"
           }
          ],
          "pie": [
           {
            "automargin": true,
            "type": "pie"
           }
          ],
          "scatter": [
           {
            "fillpattern": {
             "fillmode": "overlay",
             "size": 10,
             "solidity": 0.2
            },
            "type": "scatter"
           }
          ],
          "scatter3d": [
           {
            "line": {
             "colorbar": {
              "outlinewidth": 0,
              "ticks": ""
             }
            },
            "marker": {
             "colorbar": {
              "outlinewidth": 0,
              "ticks": ""
             }
            },
            "type": "scatter3d"
           }
          ],
          "scattercarpet": [
           {
            "marker": {
             "colorbar": {
              "outlinewidth": 0,
              "ticks": ""
             }
            },
            "type": "scattercarpet"
           }
          ],
          "scattergeo": [
           {
            "marker": {
             "colorbar": {
              "outlinewidth": 0,
              "ticks": ""
             }
            },
            "type": "scattergeo"
           }
          ],
          "scattergl": [
           {
            "marker": {
             "colorbar": {
              "outlinewidth": 0,
              "ticks": ""
             }
            },
            "type": "scattergl"
           }
          ],
          "scattermapbox": [
           {
            "marker": {
             "colorbar": {
              "outlinewidth": 0,
              "ticks": ""
             }
            },
            "type": "scattermapbox"
           }
          ],
          "scatterpolar": [
           {
            "marker": {
             "colorbar": {
              "outlinewidth": 0,
              "ticks": ""
             }
            },
            "type": "scatterpolar"
           }
          ],
          "scatterpolargl": [
           {
            "marker": {
             "colorbar": {
              "outlinewidth": 0,
              "ticks": ""
             }
            },
            "type": "scatterpolargl"
           }
          ],
          "scatterternary": [
           {
            "marker": {
             "colorbar": {
              "outlinewidth": 0,
              "ticks": ""
             }
            },
            "type": "scatterternary"
           }
          ],
          "surface": [
           {
            "colorbar": {
             "outlinewidth": 0,
             "ticks": ""
            },
            "colorscale": [
             [
              0,
              "#0d0887"
             ],
             [
              0.1111111111111111,
              "#46039f"
             ],
             [
              0.2222222222222222,
              "#7201a8"
             ],
             [
              0.3333333333333333,
              "#9c179e"
             ],
             [
              0.4444444444444444,
              "#bd3786"
             ],
             [
              0.5555555555555556,
              "#d8576b"
             ],
             [
              0.6666666666666666,
              "#ed7953"
             ],
             [
              0.7777777777777778,
              "#fb9f3a"
             ],
             [
              0.8888888888888888,
              "#fdca26"
             ],
             [
              1,
              "#f0f921"
             ]
            ],
            "type": "surface"
           }
          ],
          "table": [
           {
            "cells": {
             "fill": {
              "color": "#EBF0F8"
             },
             "line": {
              "color": "white"
             }
            },
            "header": {
             "fill": {
              "color": "#C8D4E3"
             },
             "line": {
              "color": "white"
             }
            },
            "type": "table"
           }
          ]
         },
         "layout": {
          "annotationdefaults": {
           "arrowcolor": "#2a3f5f",
           "arrowhead": 0,
           "arrowwidth": 1
          },
          "autotypenumbers": "strict",
          "coloraxis": {
           "colorbar": {
            "outlinewidth": 0,
            "ticks": ""
           }
          },
          "colorscale": {
           "diverging": [
            [
             0,
             "#8e0152"
            ],
            [
             0.1,
             "#c51b7d"
            ],
            [
             0.2,
             "#de77ae"
            ],
            [
             0.3,
             "#f1b6da"
            ],
            [
             0.4,
             "#fde0ef"
            ],
            [
             0.5,
             "#f7f7f7"
            ],
            [
             0.6,
             "#e6f5d0"
            ],
            [
             0.7,
             "#b8e186"
            ],
            [
             0.8,
             "#7fbc41"
            ],
            [
             0.9,
             "#4d9221"
            ],
            [
             1,
             "#276419"
            ]
           ],
           "sequential": [
            [
             0,
             "#0d0887"
            ],
            [
             0.1111111111111111,
             "#46039f"
            ],
            [
             0.2222222222222222,
             "#7201a8"
            ],
            [
             0.3333333333333333,
             "#9c179e"
            ],
            [
             0.4444444444444444,
             "#bd3786"
            ],
            [
             0.5555555555555556,
             "#d8576b"
            ],
            [
             0.6666666666666666,
             "#ed7953"
            ],
            [
             0.7777777777777778,
             "#fb9f3a"
            ],
            [
             0.8888888888888888,
             "#fdca26"
            ],
            [
             1,
             "#f0f921"
            ]
           ],
           "sequentialminus": [
            [
             0,
             "#0d0887"
            ],
            [
             0.1111111111111111,
             "#46039f"
            ],
            [
             0.2222222222222222,
             "#7201a8"
            ],
            [
             0.3333333333333333,
             "#9c179e"
            ],
            [
             0.4444444444444444,
             "#bd3786"
            ],
            [
             0.5555555555555556,
             "#d8576b"
            ],
            [
             0.6666666666666666,
             "#ed7953"
            ],
            [
             0.7777777777777778,
             "#fb9f3a"
            ],
            [
             0.8888888888888888,
             "#fdca26"
            ],
            [
             1,
             "#f0f921"
            ]
           ]
          },
          "colorway": [
           "#636efa",
           "#EF553B",
           "#00cc96",
           "#ab63fa",
           "#FFA15A",
           "#19d3f3",
           "#FF6692",
           "#B6E880",
           "#FF97FF",
           "#FECB52"
          ],
          "font": {
           "color": "#2a3f5f"
          },
          "geo": {
           "bgcolor": "white",
           "lakecolor": "white",
           "landcolor": "#E5ECF6",
           "showlakes": true,
           "showland": true,
           "subunitcolor": "white"
          },
          "hoverlabel": {
           "align": "left"
          },
          "hovermode": "closest",
          "mapbox": {
           "style": "light"
          },
          "paper_bgcolor": "white",
          "plot_bgcolor": "#E5ECF6",
          "polar": {
           "angularaxis": {
            "gridcolor": "white",
            "linecolor": "white",
            "ticks": ""
           },
           "bgcolor": "#E5ECF6",
           "radialaxis": {
            "gridcolor": "white",
            "linecolor": "white",
            "ticks": ""
           }
          },
          "scene": {
           "xaxis": {
            "backgroundcolor": "#E5ECF6",
            "gridcolor": "white",
            "gridwidth": 2,
            "linecolor": "white",
            "showbackground": true,
            "ticks": "",
            "zerolinecolor": "white"
           },
           "yaxis": {
            "backgroundcolor": "#E5ECF6",
            "gridcolor": "white",
            "gridwidth": 2,
            "linecolor": "white",
            "showbackground": true,
            "ticks": "",
            "zerolinecolor": "white"
           },
           "zaxis": {
            "backgroundcolor": "#E5ECF6",
            "gridcolor": "white",
            "gridwidth": 2,
            "linecolor": "white",
            "showbackground": true,
            "ticks": "",
            "zerolinecolor": "white"
           }
          },
          "shapedefaults": {
           "line": {
            "color": "#2a3f5f"
           }
          },
          "ternary": {
           "aaxis": {
            "gridcolor": "white",
            "linecolor": "white",
            "ticks": ""
           },
           "baxis": {
            "gridcolor": "white",
            "linecolor": "white",
            "ticks": ""
           },
           "bgcolor": "#E5ECF6",
           "caxis": {
            "gridcolor": "white",
            "linecolor": "white",
            "ticks": ""
           }
          },
          "title": {
           "x": 0.05
          },
          "xaxis": {
           "automargin": true,
           "gridcolor": "white",
           "linecolor": "white",
           "ticks": "",
           "title": {
            "standoff": 15
           },
           "zerolinecolor": "white",
           "zerolinewidth": 2
          },
          "yaxis": {
           "automargin": true,
           "gridcolor": "white",
           "linecolor": "white",
           "ticks": "",
           "title": {
            "standoff": 15
           },
           "zerolinecolor": "white",
           "zerolinewidth": 2
          }
         }
        },
        "title": {
         "font": {
          "color": "Black",
          "size": 22
         },
         "text": "<b>Similarity Matrix</b>",
         "x": 0.55,
         "xanchor": "center",
         "y": 0.95,
         "yanchor": "top"
        },
        "width": 800,
        "xaxis": {
         "anchor": "y",
         "constrain": "domain",
         "domain": [
          0,
          1
         ],
         "scaleanchor": "y"
        },
        "yaxis": {
         "anchor": "x",
         "autorange": "reversed",
         "constrain": "domain",
         "domain": [
          0,
          1
         ]
        }
       }
      }
     },
     "metadata": {},
     "output_type": "display_data"
    }
   ],
   "source": [
    "topic_model.visualize_heatmap()"
   ]
  }
 ],
 "metadata": {
  "kernelspec": {
   "display_name": "env",
   "language": "python",
   "name": "python3"
  },
  "language_info": {
   "codemirror_mode": {
    "name": "ipython",
    "version": 3
   },
   "file_extension": ".py",
   "mimetype": "text/x-python",
   "name": "python",
   "nbconvert_exporter": "python",
   "pygments_lexer": "ipython3",
   "version": "3.9.6"
  },
  "orig_nbformat": 4
 },
 "nbformat": 4,
 "nbformat_minor": 2
}
