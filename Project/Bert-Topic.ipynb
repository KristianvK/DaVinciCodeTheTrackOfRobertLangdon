{
 "cells": [
  {
   "cell_type": "code",
   "execution_count": 2,
   "metadata": {},
   "outputs": [
    {
     "name": "stderr",
     "output_type": "stream",
     "text": [
      "/Volumes/Drive/GitHub/DaVinciCodeTheTrackOfRobertLangdon/env/lib/python3.9/site-packages/umap/distances.py:1063: NumbaDeprecationWarning: The 'nopython' keyword argument was not supplied to the 'numba.jit' decorator. The implicit default value for this argument is currently False, but it will be changed to True in Numba 0.59.0. See https://numba.readthedocs.io/en/stable/reference/deprecation.html#deprecation-of-object-mode-fall-back-behaviour-when-using-jit for details.\n",
      "  @numba.jit()\n",
      "/Volumes/Drive/GitHub/DaVinciCodeTheTrackOfRobertLangdon/env/lib/python3.9/site-packages/umap/distances.py:1071: NumbaDeprecationWarning: The 'nopython' keyword argument was not supplied to the 'numba.jit' decorator. The implicit default value for this argument is currently False, but it will be changed to True in Numba 0.59.0. See https://numba.readthedocs.io/en/stable/reference/deprecation.html#deprecation-of-object-mode-fall-back-behaviour-when-using-jit for details.\n",
      "  @numba.jit()\n",
      "/Volumes/Drive/GitHub/DaVinciCodeTheTrackOfRobertLangdon/env/lib/python3.9/site-packages/umap/distances.py:1086: NumbaDeprecationWarning: The 'nopython' keyword argument was not supplied to the 'numba.jit' decorator. The implicit default value for this argument is currently False, but it will be changed to True in Numba 0.59.0. See https://numba.readthedocs.io/en/stable/reference/deprecation.html#deprecation-of-object-mode-fall-back-behaviour-when-using-jit for details.\n",
      "  @numba.jit()\n",
      "/Volumes/Drive/GitHub/DaVinciCodeTheTrackOfRobertLangdon/env/lib/python3.9/site-packages/tqdm/auto.py:21: TqdmWarning: IProgress not found. Please update jupyter and ipywidgets. See https://ipywidgets.readthedocs.io/en/stable/user_install.html\n",
      "  from .autonotebook import tqdm as notebook_tqdm\n",
      "/Volumes/Drive/GitHub/DaVinciCodeTheTrackOfRobertLangdon/env/lib/python3.9/site-packages/umap/umap_.py:660: NumbaDeprecationWarning: The 'nopython' keyword argument was not supplied to the 'numba.jit' decorator. The implicit default value for this argument is currently False, but it will be changed to True in Numba 0.59.0. See https://numba.readthedocs.io/en/stable/reference/deprecation.html#deprecation-of-object-mode-fall-back-behaviour-when-using-jit for details.\n",
      "  @numba.jit()\n"
     ]
    }
   ],
   "source": [
    "from bertopic import BERTopic\n",
    "from bertopic.representation import KeyBERTInspired\n",
    "import re"
   ]
  },
  {
   "cell_type": "code",
   "execution_count": 3,
   "metadata": {},
   "outputs": [],
   "source": [
    "with open('CoRef-TheDaVinciCode.txt', 'r') as f:\n",
    "    data = f.read()\n",
    "    data = data.replace(\"\\n\", \" \")\n",
    "    data = data.replace(\"\\t\", \" \")\n",
    "    data = data.replace(\"\\r\", \" \")\n",
    "    data = data.replace(\"  \", \" \")\n",
    "    data = data.replace(\"   \", \" \")\n",
    "    data = data.replace(\"    \", \" \")\n",
    "    data = data.replace(\"     \", \" \")\n",
    "    ' '.join(data.split())\n",
    "    data = re.sub('/\\s+/', ' ', data)\n",
    "f.close()\n",
    "# paragraphs = data.split(\"CHAPTER\")"
   ]
  },
  {
   "cell_type": "code",
   "execution_count": 5,
   "metadata": {},
   "outputs": [],
   "source": [
    "temp = data.split(\".\")\n",
    "temp_ = [x for x in temp if x != ['']]\n",
    "# merge by index of 5 sentences\n",
    "sentences = [temp_[i:i+5] for i in range(0, len(temp_), 5)]\n",
    "# merge all subindex of sentences into one string\n",
    "sentences = [' '.join(x) for x in sentences]\n",
    "paragraphs = data.split(\"CHAPTER\")"
   ]
  },
  {
   "cell_type": "code",
   "execution_count": 6,
   "metadata": {},
   "outputs": [
    {
     "name": "stderr",
     "output_type": "stream",
     "text": [
      "Batches: 100%|██████████| 4/4 [00:03<00:00,  1.27it/s]\n",
      "2023-05-24 16:24:50,171 - BERTopic - Transformed documents to Embeddings\n",
      "2023-05-24 16:24:53,468 - BERTopic - Reduced dimensionality\n",
      "2023-05-24 16:24:53,495 - BERTopic - Clustered reduced embeddings\n"
     ]
    }
   ],
   "source": [
    "# Fine-tune your topic representations\n",
    "representation_model = KeyBERTInspired()\n",
    "topic_model = BERTopic(language=\"english\",representation_model=representation_model, calculate_probabilities=True, verbose=True)\n",
    "topics, probs = topic_model.fit_transform(paragraphs)"
   ]
  },
  {
   "cell_type": "code",
   "execution_count": 7,
   "metadata": {},
   "outputs": [
    {
     "data": {
      "text/html": [
       "<div>\n",
       "<style scoped>\n",
       "    .dataframe tbody tr th:only-of-type {\n",
       "        vertical-align: middle;\n",
       "    }\n",
       "\n",
       "    .dataframe tbody tr th {\n",
       "        vertical-align: top;\n",
       "    }\n",
       "\n",
       "    .dataframe thead th {\n",
       "        text-align: right;\n",
       "    }\n",
       "</style>\n",
       "<table border=\"1\" class=\"dataframe\">\n",
       "  <thead>\n",
       "    <tr style=\"text-align: right;\">\n",
       "      <th></th>\n",
       "      <th>Topic</th>\n",
       "      <th>Count</th>\n",
       "      <th>Name</th>\n",
       "    </tr>\n",
       "  </thead>\n",
       "  <tbody>\n",
       "    <tr>\n",
       "      <th>0</th>\n",
       "      <td>-1</td>\n",
       "      <td>6</td>\n",
       "      <td>-1_bank_banks_depository_zurich</td>\n",
       "    </tr>\n",
       "    <tr>\n",
       "      <th>1</th>\n",
       "      <td>0</td>\n",
       "      <td>79</td>\n",
       "      <td>0_langdon_langdons_priory_sophie</td>\n",
       "    </tr>\n",
       "    <tr>\n",
       "      <th>2</th>\n",
       "      <td>1</td>\n",
       "      <td>24</td>\n",
       "      <td>1_silas_silass_opus_saintsulpice</td>\n",
       "    </tr>\n",
       "  </tbody>\n",
       "</table>\n",
       "</div>"
      ],
      "text/plain": [
       "   Topic  Count                              Name\n",
       "0     -1      6   -1_bank_banks_depository_zurich\n",
       "1      0     79  0_langdon_langdons_priory_sophie\n",
       "2      1     24  1_silas_silass_opus_saintsulpice"
      ]
     },
     "execution_count": 7,
     "metadata": {},
     "output_type": "execute_result"
    }
   ],
   "source": [
    "freq = topic_model.get_topic_info(); freq.head(5)"
   ]
  },
  {
   "cell_type": "code",
   "execution_count": 8,
   "metadata": {},
   "outputs": [
    {
     "data": {
      "text/html": [
       "<div>\n",
       "<style scoped>\n",
       "    .dataframe tbody tr th:only-of-type {\n",
       "        vertical-align: middle;\n",
       "    }\n",
       "\n",
       "    .dataframe tbody tr th {\n",
       "        vertical-align: top;\n",
       "    }\n",
       "\n",
       "    .dataframe thead th {\n",
       "        text-align: right;\n",
       "    }\n",
       "</style>\n",
       "<table border=\"1\" class=\"dataframe\">\n",
       "  <thead>\n",
       "    <tr style=\"text-align: right;\">\n",
       "      <th></th>\n",
       "      <th>Topic</th>\n",
       "      <th>Count</th>\n",
       "      <th>Name</th>\n",
       "    </tr>\n",
       "  </thead>\n",
       "  <tbody>\n",
       "    <tr>\n",
       "      <th>0</th>\n",
       "      <td>-1</td>\n",
       "      <td>6</td>\n",
       "      <td>-1_bank_banks_depository_zurich</td>\n",
       "    </tr>\n",
       "    <tr>\n",
       "      <th>1</th>\n",
       "      <td>0</td>\n",
       "      <td>79</td>\n",
       "      <td>0_langdon_langdons_priory_sophie</td>\n",
       "    </tr>\n",
       "    <tr>\n",
       "      <th>2</th>\n",
       "      <td>1</td>\n",
       "      <td>24</td>\n",
       "      <td>1_silas_silass_opus_saintsulpice</td>\n",
       "    </tr>\n",
       "  </tbody>\n",
       "</table>\n",
       "</div>"
      ],
      "text/plain": [
       "   Topic  Count                              Name\n",
       "0     -1      6   -1_bank_banks_depository_zurich\n",
       "1      0     79  0_langdon_langdons_priory_sophie\n",
       "2      1     24  1_silas_silass_opus_saintsulpice"
      ]
     },
     "execution_count": 8,
     "metadata": {},
     "output_type": "execute_result"
    }
   ],
   "source": [
    "freq"
   ]
  },
  {
   "cell_type": "code",
   "execution_count": 36,
   "metadata": {},
   "outputs": [
    {
     "name": "stdout",
     "output_type": "stream",
     "text": [
      "Langdon is present 3475 times in topic 0\n"
     ]
    }
   ],
   "source": [
    "df = topic_model.get_document_info(paragraphs)\n",
    "# df only for topic 0\n",
    "df = df[df['Topic']==0]\n",
    "# converge all document in df as one single string\n",
    "text = ' '.join(df['Document'].tolist()).lower()\n",
    "# count all the occurences of langdon in the text\n",
    "print('Langdon is present %d times in topic 0' % (text.count('langdon')))"
   ]
  },
  {
   "cell_type": "code",
   "execution_count": 37,
   "metadata": {},
   "outputs": [
    {
     "name": "stdout",
     "output_type": "stream",
     "text": [
      "Langdon is present 99 times in topic 1\n"
     ]
    }
   ],
   "source": [
    "df = topic_model.get_document_info(paragraphs)\n",
    "# df only for topic 1\n",
    "df = df[df['Topic']==1]\n",
    "# converge all document in df as one single string\n",
    "text = ' '.join(df['Document'].tolist()).lower()\n",
    "# count all the occurences of langdon in the text\n",
    "print('Langdon is present %d times in topic 1' % (text.count('langdon')))"
   ]
  },
  {
   "cell_type": "code",
   "execution_count": 40,
   "metadata": {},
   "outputs": [
    {
     "name": "stdout",
     "output_type": "stream",
     "text": [
      "Silas is present 130 times in topic 0\n"
     ]
    }
   ],
   "source": [
    "df = topic_model.get_document_info(paragraphs)\n",
    "# df only for topic 0\n",
    "df = df[df['Topic']==0]\n",
    "# converge all document in df as one single string\n",
    "text = ' '.join(df['Document'].tolist()).lower()\n",
    "# count all the occurences of langdon in the text\n",
    "print('Silas is present %d times in topic 0' % (text.count('silas')))"
   ]
  },
  {
   "cell_type": "code",
   "execution_count": 41,
   "metadata": {},
   "outputs": [
    {
     "name": "stdout",
     "output_type": "stream",
     "text": [
      "Silas is present 782 times in topic 1\n"
     ]
    }
   ],
   "source": [
    "df = topic_model.get_document_info(paragraphs)\n",
    "# df only for topic 1\n",
    "df = df[df['Topic']==1]\n",
    "# converge all document in df as one single string\n",
    "text = ' '.join(df['Document'].tolist()).lower()\n",
    "# count all the occurences of langdon in the text\n",
    "print('Silas is present %d times in topic 1' % (text.count('silas')))"
   ]
  },
  {
   "cell_type": "code",
   "execution_count": 10,
   "metadata": {},
   "outputs": [],
   "source": [
    "# topic_model.visualize_topics()"
   ]
  },
  {
   "cell_type": "code",
   "execution_count": 12,
   "metadata": {},
   "outputs": [],
   "source": [
    "# topic_model.visualize_heatmap()"
   ]
  }
 ],
 "metadata": {
  "kernelspec": {
   "display_name": "env",
   "language": "python",
   "name": "python3"
  },
  "language_info": {
   "codemirror_mode": {
    "name": "ipython",
    "version": 3
   },
   "file_extension": ".py",
   "mimetype": "text/x-python",
   "name": "python",
   "nbconvert_exporter": "python",
   "pygments_lexer": "ipython3",
   "version": "3.9.6"
  },
  "orig_nbformat": 4
 },
 "nbformat": 4,
 "nbformat_minor": 2
}
